{
 "cells": [
  {
   "cell_type": "markdown",
   "id": "23689452-998e-4f76-8409-b9c7c5f2e2bc",
   "metadata": {},
   "source": [
    "<center>\n",
    "<h1>Rana Fahad Aman</h1>\n",
    "<h3>Artificial Intelligence Lab_8</h3>\n",
    "<h4>30 November 2023</h4>\n",
    "</center>"
   ]
  },
  {
   "cell_type": "markdown",
   "id": "d29089bc-015f-4bde-b3ca-728c1c806abb",
   "metadata": {},
   "source": [
    "### In-Lab Task 1"
   ]
  },
  {
   "cell_type": "code",
   "execution_count": 1,
   "id": "4febeaad-39a8-496f-9dc6-f43e5c56a836",
   "metadata": {
    "tags": []
   },
   "outputs": [
    {
     "name": "stdout",
     "output_type": "stream",
     "text": [
      "Libraries Imported Successfully!\n"
     ]
    }
   ],
   "source": [
    "# Importing libraries needed\n",
    "# Note that Keras is generally used for deep learning as well\n",
    "from sklearn.model_selection import train_test_split\n",
    "from sklearn.metrics import mean_squared_error\n",
    "import numpy as np\n",
    "from sklearn import linear_model\n",
    "from sklearn import tree\n",
    "from sklearn.ensemble import RandomForestRegressor, GradientBoostingRegressor\n",
    "import pandas as pd\n",
    "import seaborn as sns\n",
    "import matplotlib.pyplot as plt\n",
    "print(\"Libraries Imported Successfully!\")"
   ]
  },
  {
   "cell_type": "code",
   "execution_count": 2,
   "id": "94eefec1-7b80-499a-94c0-014ab74f4a61",
   "metadata": {
    "tags": []
   },
   "outputs": [
    {
     "data": {
      "text/html": [
       "<div>\n",
       "<style scoped>\n",
       "    .dataframe tbody tr th:only-of-type {\n",
       "        vertical-align: middle;\n",
       "    }\n",
       "\n",
       "    .dataframe tbody tr th {\n",
       "        vertical-align: top;\n",
       "    }\n",
       "\n",
       "    .dataframe thead th {\n",
       "        text-align: right;\n",
       "    }\n",
       "</style>\n",
       "<table border=\"1\" class=\"dataframe\">\n",
       "  <thead>\n",
       "    <tr style=\"text-align: right;\">\n",
       "      <th></th>\n",
       "      <th>A</th>\n",
       "      <th>B</th>\n",
       "      <th>C</th>\n",
       "      <th>D</th>\n",
       "      <th>E</th>\n",
       "      <th>F</th>\n",
       "    </tr>\n",
       "  </thead>\n",
       "  <tbody>\n",
       "    <tr>\n",
       "      <th>0</th>\n",
       "      <td>24</td>\n",
       "      <td>0.42</td>\n",
       "      <td>0.16</td>\n",
       "      <td>0.59</td>\n",
       "      <td>0.81</td>\n",
       "      <td>0.08</td>\n",
       "    </tr>\n",
       "    <tr>\n",
       "      <th>1</th>\n",
       "      <td>19</td>\n",
       "      <td>0.49</td>\n",
       "      <td>0.04</td>\n",
       "      <td>0.37</td>\n",
       "      <td>0.69</td>\n",
       "      <td>0.11</td>\n",
       "    </tr>\n",
       "    <tr>\n",
       "      <th>2</th>\n",
       "      <td>18</td>\n",
       "      <td>0.24</td>\n",
       "      <td>0.17</td>\n",
       "      <td>0.66</td>\n",
       "      <td>0.87</td>\n",
       "      <td>0.31</td>\n",
       "    </tr>\n",
       "    <tr>\n",
       "      <th>3</th>\n",
       "      <td>8</td>\n",
       "      <td>0.74</td>\n",
       "      <td>0.00</td>\n",
       "      <td>0.81</td>\n",
       "      <td>0.88</td>\n",
       "      <td>0.11</td>\n",
       "    </tr>\n",
       "    <tr>\n",
       "      <th>4</th>\n",
       "      <td>8</td>\n",
       "      <td>0.95</td>\n",
       "      <td>0.00</td>\n",
       "      <td>0.86</td>\n",
       "      <td>0.92</td>\n",
       "      <td>0.28</td>\n",
       "    </tr>\n",
       "  </tbody>\n",
       "</table>\n",
       "</div>"
      ],
      "text/plain": [
       "    A     B     C     D     E     F\n",
       "0  24  0.42  0.16  0.59  0.81  0.08\n",
       "1  19  0.49  0.04  0.37  0.69  0.11\n",
       "2  18  0.24  0.17  0.66  0.87  0.31\n",
       "3   8  0.74  0.00  0.81  0.88  0.11\n",
       "4   8  0.95  0.00  0.86  0.92  0.28"
      ]
     },
     "execution_count": 2,
     "metadata": {},
     "output_type": "execute_result"
    }
   ],
   "source": [
    "#========================#\n",
    "# Read Data and fix seed\n",
    "#========================#\n",
    "# Fix random seed for reproducibility\n",
    "np.random.seed(7)\n",
    "df = pd.read_csv(\"Alumni Giving Regression (Edited).csv\", delimiter=\",\")\n",
    "df = df.dropna()\n",
    "df.head()"
   ]
  },
  {
   "cell_type": "code",
   "execution_count": 3,
   "id": "1c4ad2c7-d53e-442d-b02f-059555619ce5",
   "metadata": {
    "tags": []
   },
   "outputs": [
    {
     "name": "stdout",
     "output_type": "stream",
     "text": [
      "<class 'pandas.core.frame.DataFrame'>\n",
      "RangeIndex: 123 entries, 0 to 122\n",
      "Data columns (total 6 columns):\n",
      " #   Column  Non-Null Count  Dtype  \n",
      "---  ------  --------------  -----  \n",
      " 0   A       123 non-null    int64  \n",
      " 1   B       123 non-null    float64\n",
      " 2   C       123 non-null    float64\n",
      " 3   D       123 non-null    float64\n",
      " 4   E       123 non-null    float64\n",
      " 5   F       123 non-null    float64\n",
      "dtypes: float64(5), int64(1)\n",
      "memory usage: 5.9 KB\n"
     ]
    }
   ],
   "source": [
    "df.info()"
   ]
  },
  {
   "cell_type": "code",
   "execution_count": 4,
   "id": "0dfca3e6-544f-46c5-9608-5b414ca8ad16",
   "metadata": {
    "tags": []
   },
   "outputs": [
    {
     "data": {
      "text/html": [
       "<div>\n",
       "<style scoped>\n",
       "    .dataframe tbody tr th:only-of-type {\n",
       "        vertical-align: middle;\n",
       "    }\n",
       "\n",
       "    .dataframe tbody tr th {\n",
       "        vertical-align: top;\n",
       "    }\n",
       "\n",
       "    .dataframe thead th {\n",
       "        text-align: right;\n",
       "    }\n",
       "</style>\n",
       "<table border=\"1\" class=\"dataframe\">\n",
       "  <thead>\n",
       "    <tr style=\"text-align: right;\">\n",
       "      <th></th>\n",
       "      <th>A</th>\n",
       "      <th>B</th>\n",
       "      <th>C</th>\n",
       "      <th>D</th>\n",
       "      <th>E</th>\n",
       "      <th>F</th>\n",
       "    </tr>\n",
       "  </thead>\n",
       "  <tbody>\n",
       "    <tr>\n",
       "      <th>count</th>\n",
       "      <td>123.000000</td>\n",
       "      <td>123.000000</td>\n",
       "      <td>123.000000</td>\n",
       "      <td>123.000000</td>\n",
       "      <td>123.000000</td>\n",
       "      <td>123.000000</td>\n",
       "    </tr>\n",
       "    <tr>\n",
       "      <th>mean</th>\n",
       "      <td>17.772358</td>\n",
       "      <td>0.403659</td>\n",
       "      <td>0.136260</td>\n",
       "      <td>0.645203</td>\n",
       "      <td>0.841138</td>\n",
       "      <td>0.141789</td>\n",
       "    </tr>\n",
       "    <tr>\n",
       "      <th>std</th>\n",
       "      <td>4.517385</td>\n",
       "      <td>0.133897</td>\n",
       "      <td>0.060101</td>\n",
       "      <td>0.169794</td>\n",
       "      <td>0.083942</td>\n",
       "      <td>0.080674</td>\n",
       "    </tr>\n",
       "    <tr>\n",
       "      <th>min</th>\n",
       "      <td>6.000000</td>\n",
       "      <td>0.140000</td>\n",
       "      <td>0.000000</td>\n",
       "      <td>0.260000</td>\n",
       "      <td>0.580000</td>\n",
       "      <td>0.020000</td>\n",
       "    </tr>\n",
       "    <tr>\n",
       "      <th>25%</th>\n",
       "      <td>16.000000</td>\n",
       "      <td>0.320000</td>\n",
       "      <td>0.095000</td>\n",
       "      <td>0.505000</td>\n",
       "      <td>0.780000</td>\n",
       "      <td>0.080000</td>\n",
       "    </tr>\n",
       "    <tr>\n",
       "      <th>50%</th>\n",
       "      <td>18.000000</td>\n",
       "      <td>0.380000</td>\n",
       "      <td>0.130000</td>\n",
       "      <td>0.640000</td>\n",
       "      <td>0.840000</td>\n",
       "      <td>0.130000</td>\n",
       "    </tr>\n",
       "    <tr>\n",
       "      <th>75%</th>\n",
       "      <td>20.000000</td>\n",
       "      <td>0.460000</td>\n",
       "      <td>0.180000</td>\n",
       "      <td>0.785000</td>\n",
       "      <td>0.910000</td>\n",
       "      <td>0.170000</td>\n",
       "    </tr>\n",
       "    <tr>\n",
       "      <th>max</th>\n",
       "      <td>31.000000</td>\n",
       "      <td>0.950000</td>\n",
       "      <td>0.310000</td>\n",
       "      <td>0.960000</td>\n",
       "      <td>0.980000</td>\n",
       "      <td>0.410000</td>\n",
       "    </tr>\n",
       "  </tbody>\n",
       "</table>\n",
       "</div>"
      ],
      "text/plain": [
       "                A           B           C           D           E           F\n",
       "count  123.000000  123.000000  123.000000  123.000000  123.000000  123.000000\n",
       "mean    17.772358    0.403659    0.136260    0.645203    0.841138    0.141789\n",
       "std      4.517385    0.133897    0.060101    0.169794    0.083942    0.080674\n",
       "min      6.000000    0.140000    0.000000    0.260000    0.580000    0.020000\n",
       "25%     16.000000    0.320000    0.095000    0.505000    0.780000    0.080000\n",
       "50%     18.000000    0.380000    0.130000    0.640000    0.840000    0.130000\n",
       "75%     20.000000    0.460000    0.180000    0.785000    0.910000    0.170000\n",
       "max     31.000000    0.950000    0.310000    0.960000    0.980000    0.410000"
      ]
     },
     "execution_count": 4,
     "metadata": {},
     "output_type": "execute_result"
    }
   ],
   "source": [
    "df.describe()"
   ]
  },
  {
   "cell_type": "code",
   "execution_count": 5,
   "id": "a41c8c9d-ede8-4c64-89db-0bb1afc52ceb",
   "metadata": {
    "tags": []
   },
   "outputs": [
    {
     "data": {
      "image/png": "[encoded data removed]",
      "text/plain": [
       "<Figure size 640x480 with 1 Axes>"
      ]
     },
     "metadata": {},
     "output_type": "display_data"
    }
   ],
   "source": [
    "sns.boxplot(data=df).set(xlabel='Columns',ylabel='Values', title='Box Plot of All Values')\n",
    "plt.show()"
   ]
  },
  {
   "cell_type": "markdown",
   "id": "2e87b20c-68af-476d-88b4-2509f065c6d4",
   "metadata": {},
   "source": [
    "### In-Lab Task 2"
   ]
  },
  {
   "cell_type": "code",
   "execution_count": 6,
   "id": "cc1feec6-07f9-4c82-8f8a-1e658075706b",
   "metadata": {
    "tags": []
   },
   "outputs": [
    {
     "data": {
      "image/png": "[encoded data removed]",
      "text/plain": [
       "<Figure size 640x480 with 1 Axes>"
      ]
     },
     "metadata": {},
     "output_type": "display_data"
    }
   ],
   "source": [
    "quantile99 = df.iloc[:,0].quantile (0.99) \n",
    "df1 = df[df.iloc[:,0] < quantile99]\n",
    "sns.boxplot(data=df1).set(xlabel='Columns',ylabel='Values', title='Box Plot of Top 99% of Values')\n",
    "plt.show()"
   ]
  },
  {
   "cell_type": "code",
   "execution_count": 7,
   "id": "80dc1552-4729-4791-84fb-b4b4bd0bd417",
   "metadata": {
    "tags": []
   },
   "outputs": [
    {
     "data": {
      "image/png": "[encoded data removed]",
      "text/plain": [
       "<Figure size 640x480 with 1 Axes>"
      ]
     },
     "metadata": {},
     "output_type": "display_data"
    }
   ],
   "source": [
    "quantile1 = df.iloc[:,0].quantile (0.01) \n",
    "quantile99 = df.iloc[:,0].quantile (0.99)\n",
    "df2 = df[(df.iloc[:,0] > quantile1) & (df.iloc[:,0] <quantile99)] \n",
    "sns.boxplot(data=df2).set(xlabel='Columns',ylabel='Values', title='Box Plot of 1%-99% of Values')\n",
    "plt.show()"
   ]
  },
  {
   "cell_type": "code",
   "execution_count": 8,
   "id": "b6cbab24-ebac-4816-ba79-019ba570acab",
   "metadata": {
    "tags": []
   },
   "outputs": [
    {
     "name": "stdout",
     "output_type": "stream",
     "text": [
      "========================\n",
      "    Feature Ranking\n",
      "========================\n",
      "{Feature#3}=>(89.246726)\n",
      "{Feature#2}=>(3.788848)\n",
      "{Feature#1}=>(3.062046)\n",
      "{Feature#4}=>(2.152351)\n",
      "{Feature#0}=>(1.750029)\n",
      "========================\n"
     ]
    }
   ],
   "source": [
    "model3 = RandomForestRegressor()\n",
    "X_train = df[['A','B','C','D','F']]\n",
    "y_train = df[['E']]\n",
    "y_train = np.array(y_train).ravel() # Makes the target variable \"y_train\" into a 1D array \n",
    "model3.fit(X_train, y_train)\n",
    "RF = model3\n",
    "importances = RF.feature_importances_\n",
    "std = np.std([tree.feature_importances_ for tree in RF.estimators_], axis = 0)\n",
    "indices = np.argsort(importances)[::-1]\n",
    "# Print the feature ranking\n",
    "print(\"========================\")\n",
    "print(\"    Feature Ranking\")\n",
    "print(\"========================\")\n",
    "for f in range(X_train.shape[1]):\n",
    "    print(\"{Feature#%s}=>(%f)\" %(indices[f], importances[indices[f]]*100))\n",
    "print(\"========================\")"
   ]
  },
  {
   "cell_type": "markdown",
   "id": "1f44adeb-80d8-477d-ad88-782d2a7a8e4b",
   "metadata": {},
   "source": [
    "### In-Lab Task3"
   ]
  },
  {
   "cell_type": "code",
   "execution_count": 9,
   "id": "7a115d28-c97b-4287-9166-1c4973a1fb1e",
   "metadata": {
    "tags": []
   },
   "outputs": [
    {
     "name": "stdout",
     "output_type": "stream",
     "text": [
      "The top 3 features indexes: [3 2 1]\n",
      "            ======================\n",
      "                  Regression\n",
      "================================================\n",
      "Regression TrainSet: RMSE 0.002796386754276771\n",
      "================================================\n",
      "Regression Testset: RMSE 0.004386394878107668\n",
      "================================================\n"
     ]
    }
   ],
   "source": [
    "indices_top3= indices[:3]\n",
    "print(\"The top 3 features indexes:\",indices_top3)\n",
    "Y_position=5\n",
    "TOP_N_FEATURE = 3\n",
    "X = df.iloc[:, indices_top3]\n",
    "Y = df.iloc[:,Y_position]\n",
    "# create model\n",
    "X_train, X_test, y_train, y_test = train_test_split(X, Y, test_size=0.20, random_state = 2020)\n",
    "\n",
    "#Model 1 linear regression\n",
    "model1 = linear_model.LinearRegression()\n",
    "model1.fit(X_train, y_train)\n",
    "y_pred_train1 = model1.predict(X_train)\n",
    "print(\"            ======================\")\n",
    "print(\"                  Regression\")\n",
    "print(\"================================================\")\n",
    "RMSE_train1 = mean_squared_error(y_train, y_pred_train1)\n",
    "print(\"Regression TrainSet: RMSE {}\".format(RMSE_train1)) \n",
    "print(\"================================================\")\n",
    "y_pred1 = model1.predict(X_test)\n",
    "RMSE_test1 = mean_squared_error(y_test,y_pred1)\n",
    "print(\"Regression Testset: RMSE {}\".format(RMSE_test1))\n",
    "print(\"================================================\")"
   ]
  },
  {
   "cell_type": "code",
   "execution_count": null,
   "id": "04023b9c-c897-4fb4-af45-0706b719d16c",
   "metadata": {},
   "outputs": [],
   "source": []
  }
 ],
 "metadata": {
  "kernelspec": {
   "display_name": "Python 3 (ipykernel)",
   "language": "python",
   "name": "python3"
  },
  "language_info": {
   "codemirror_mode": {
    "name": "ipython",
    "version": 3
   },
   "file_extension": ".py",
   "mimetype": "text/x-python",
   "name": "python",
   "nbconvert_exporter": "python",
   "pygments_lexer": "ipython3",
   "version": "3.10.9"
  }
 },
 "nbformat": 4,
 "nbformat_minor": 5
}
