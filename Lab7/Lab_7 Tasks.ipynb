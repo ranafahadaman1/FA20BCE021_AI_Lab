{
 "cells": [
  {
   "cell_type": "markdown",
   "id": "a69a6caf-ac08-4c03-936c-1d505acbf59c",
   "metadata": {},
   "source": [
    "<center>\n",
    "<h1>Rana Fahad Aman</h1>\n",
    "<h3>Artificial Intelligence Lab_7</h3>\n",
    "<h4>16 November 2023</h4>\n",
    "</center>"
   ]
  },
  {
   "cell_type": "code",
   "execution_count": 1,
   "id": "3874a87c-e73c-4606-8326-3537de156e46",
   "metadata": {
    "tags": []
   },
   "outputs": [
    {
     "name": "stdout",
     "output_type": "stream",
     "text": [
      "Libraries Imported Successfully!\n"
     ]
    }
   ],
   "source": [
    "# Import necessary libraries\n",
    "from keras.models import Sequential\n",
    "from keras.layers import Conv2D, MaxPooling2D, Flatten, Dense\n",
    "from keras.datasets import mnist\n",
    "from keras.utils import to_categorical\n",
    "print(\"Libraries Imported Successfully!\")"
   ]
  },
  {
   "cell_type": "code",
   "execution_count": 2,
   "id": "38a63adb-db64-4f1b-aba7-9723b56f3b88",
   "metadata": {
    "tags": []
   },
   "outputs": [
    {
     "name": "stdout",
     "output_type": "stream",
     "text": [
      "Loaded and processed the dataset. \n",
      "Training and testing images reshaped and normalized successfully!\n"
     ]
    }
   ],
   "source": [
    "# Load and preprocess the MNIST dataset\n",
    "(train_images, train_labels), (test_images, test_labels) = mnist.load_data()\n",
    "#Reshape and normalize the images\n",
    "train_images = train_images.reshape((60000, 28, 28, 1)).astype('float32') / 255\n",
    "test_images = test_images.reshape((10000, 28, 28, 1)).astype('float32') / 255\n",
    "print(\"Loaded and processed the dataset. \\nTraining and testing images reshaped and normalized successfully!\")"
   ]
  },
  {
   "cell_type": "code",
   "execution_count": 3,
   "id": "9a7d298f-29f8-402f-9b6d-f878992aeaa5",
   "metadata": {
    "tags": []
   },
   "outputs": [
    {
     "name": "stdout",
     "output_type": "stream",
     "text": [
      "Labels One-hot encoded successfully!\n"
     ]
    }
   ],
   "source": [
    "# One-hot encode the labels\n",
    "train_labels = to_categorical (train_labels) \n",
    "test_labels = to_categorical (test_labels)\n",
    "print(\"Labels One-hot encoded successfully!\")"
   ]
  },
  {
   "cell_type": "code",
   "execution_count": 4,
   "id": "d0a102a8-3099-4bbd-8a3f-6a883556df19",
   "metadata": {
    "tags": []
   },
   "outputs": [
    {
     "name": "stdout",
     "output_type": "stream",
     "text": [
      "Built the CNN model successfully!\n"
     ]
    }
   ],
   "source": [
    "# Build the CNN model\n",
    "model = Sequential()\n",
    "# Step 1: Convolutional Layer with ReLU activation\n",
    "model.add(Conv2D(32, (3, 3), activation='relu', input_shape=(28, 28, 1)))\n",
    "# Step 2: Max Pooling Layer \n",
    "model.add(MaxPooling2D((2, 2)))\n",
    "# Step 3: Convolutional Layer with ReLU activation \n",
    "model.add(Conv2D(64, (3, 3), activation='relu'))\n",
    "# Step 4: Max Pooling Layer\n",
    "model.add(MaxPooling2D((2, 2)))\n",
    "# Step 5: Flatten Layer\n",
    "model.add(Flatten())\n",
    "# Step 6: Dense (Fully Connected) Layer with ReLU activation \n",
    "model.add(Dense (64, activation='relu'))\n",
    "# Step 7: Output Layer with Softmax activation (for multi-class classification) \n",
    "model.add(Dense(10, activation='softmax'))\n",
    "print(\"Built the CNN model successfully!\")"
   ]
  },
  {
   "cell_type": "code",
   "execution_count": 5,
   "id": "227cc9f7-d64e-46cb-8805-cc02b60874eb",
   "metadata": {
    "tags": []
   },
   "outputs": [
    {
     "name": "stdout",
     "output_type": "stream",
     "text": [
      "Compilation of the model completed successfully!\n"
     ]
    }
   ],
   "source": [
    "# Compile the model\n",
    "model.compile(optimizer='adam', loss='categorical_crossentropy', metrics=['accuracy'])\n",
    "print(\"Compilation of the model completed successfully!\")"
   ]
  },
  {
   "cell_type": "code",
   "execution_count": 6,
   "id": "0b4b4765-3146-48a9-bbc6-24d7e3f9c0fd",
   "metadata": {
    "tags": []
   },
   "outputs": [
    {
     "name": "stdout",
     "output_type": "stream",
     "text": [
      "Epoch 1/5\n",
      "938/938 [==============================] - 30s 31ms/step - loss: 0.1788 - accuracy: 0.9465 - val_loss: 0.0564 - val_accuracy: 0.9826\n",
      "Epoch 2/5\n",
      "938/938 [==============================] - 27s 29ms/step - loss: 0.0557 - accuracy: 0.9831 - val_loss: 0.0409 - val_accuracy: 0.9870\n",
      "Epoch 3/5\n",
      "938/938 [==============================] - 28s 30ms/step - loss: 0.0401 - accuracy: 0.9876 - val_loss: 0.0363 - val_accuracy: 0.9882\n",
      "Epoch 4/5\n",
      "938/938 [==============================] - 28s 30ms/step - loss: 0.0297 - accuracy: 0.9904 - val_loss: 0.0317 - val_accuracy: 0.9894\n",
      "Epoch 5/5\n",
      "938/938 [==============================] - 27s 29ms/step - loss: 0.0244 - accuracy: 0.9926 - val_loss: 0.0294 - val_accuracy: 0.9895\n",
      "Model trained successfully!\n"
     ]
    }
   ],
   "source": [
    "# Train the model\n",
    "model.fit(train_images,train_labels,epochs=5,batch_size=64,validation_data=(test_images,test_labels))\n",
    "print(\"Model trained successfully!\")"
   ]
  },
  {
   "cell_type": "code",
   "execution_count": 9,
   "id": "6fac1962-b8a1-445e-99d7-b13124e6ba32",
   "metadata": {
    "tags": []
   },
   "outputs": [
    {
     "name": "stdout",
     "output_type": "stream",
     "text": [
      "313/313 [==============================] - 1s 5ms/step - loss: 0.0294 - accuracy: 0.9895\n",
      "Test Accuracy: 0.9895\n",
      "Model Evaluation Completed!\n",
      "Every step has been completed!\n"
     ]
    }
   ],
   "source": [
    "# Evaluate the model on the test set\n",
    "test_loss, test_acc = model.evaluate(test_images, test_labels)\n",
    "print(f\"Test Accuracy: {round(test_acc,4)}\")\n",
    "print(\"Model Evaluation Completed!\\nEvery step has been completed!\")"
   ]
  },
  {
   "cell_type": "code",
   "execution_count": null,
   "id": "eb5f8ee2-2b7b-41b8-8fa9-d9bf101fd75d",
   "metadata": {},
   "outputs": [],
   "source": []
  }
 ],
 "metadata": {
  "kernelspec": {
   "display_name": "Python 3 (ipykernel)",
   "language": "python",
   "name": "python3"
  },
  "language_info": {
   "codemirror_mode": {
    "name": "ipython",
    "version": 3
   },
   "file_extension": ".py",
   "mimetype": "text/x-python",
   "name": "python",
   "nbconvert_exporter": "python",
   "pygments_lexer": "ipython3",
   "version": "3.10.9"
  }
 },
 "nbformat": 4,
 "nbformat_minor": 5
}
