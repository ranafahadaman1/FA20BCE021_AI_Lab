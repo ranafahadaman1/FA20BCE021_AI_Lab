{
 "cells": [
  {
   "cell_type": "markdown",
   "id": "671ea985-fd6f-4626-a427-9b2bb8145013",
   "metadata": {},
   "source": [
    "<center>\n",
    "<h1>RANA FAHAD AMAN {FA20-BCE-021}</h1>\n",
    "<h3>Lab_2 Task</h3>\n",
    "<h4>Number Guessing Game</h4>\n",
    "<h4>14 September 2023</h4>\n",
    "</center>"
   ]
  },
  {
   "cell_type": "code",
   "execution_count": null,
   "id": "cd563b50-6297-4b00-be73-fb2da9a1ba7a",
   "metadata": {
    "tags": []
   },
   "outputs": [],
   "source": [
    "## import random\n",
    "\n",
    "#random.randrange(startingRange, endingRange)\n",
    "playerName = input(\"What is your name?\")\n",
    "lowerLimit = input(f\"{playerName}, what do you want the lower limit to be? \")\n",
    "\n",
    "if lowerLimit.isdigit():\n",
    "    lowerLimit = int(lowerLimit)\n",
    "else:\n",
    "    print(\"That wasn't a number!\")\n",
    "    print(\"Choose a number next time!\")\n",
    "    quit()\n",
    "\n",
    "upperLimit = input(f\"{playerName}, what do you want the upper limit to be? \")\n",
    "if upperLimit.isdigit():\n",
    "    upperLimit = int(upperLimit)\n",
    "    if upperLimit <= 0:\n",
    "        upperLimit = input(\"Please enter an upper limit greater than ZERO next time!\")\n",
    "        print()\n",
    "        quit()\n",
    "\n",
    "else:\n",
    "    print(\"That wasn't a number! \")\n",
    "    print(\"Choose a number next time!\")\n",
    "    quit()\n",
    "\n",
    "initialScore = 100\n",
    "\n",
    "randomNumber = random.randrange(lowerLimit, upperLimit)\n",
    "print()\n",
    "print(\"A random number has been generated between the given limits.\")\n",
    "#guessedNumber = int(input(\"Try and guess that number ==> \"))\n",
    "\n",
    "tries = 0\n",
    "while True:\n",
    "    guessedNumber = input(\"Make a guess ==> \")\n",
    "    tries+=1\n",
    "    if guessedNumber.isdigit():\n",
    "        guessedNumber = int(guessedNumber)\n",
    "        if guessedNumber == randomNumber:\n",
    "            print(f\"\\nCongrats {playerName}!\")\n",
    "            print(\"You guessed the correct number!!\")\n",
    "            if(tries==1):\n",
    "                print(f\"You took {tries} try to guess the correct number.\")\n",
    "            else:\n",
    "                print(f\"You took {tries} try to guess the correct number.\")\n",
    "            #print(f\"The chance of you guessing it correctly in {tries} tries is {round((((upperLimit-lowerLimit)/(tries))/((upperLimit-lowerLimit)-(tries))*tries),2)}%\")\n",
    "                print(f\"Your score is {initialScore-1}.\")\n",
    "            print()\n",
    "            break\n",
    "        else:\n",
    "            if guessedNumber > randomNumber:\n",
    "                print(\"Your guess is greater than the random number!\")\n",
    "                initialScore -= 1\n",
    "            else:\n",
    "                print(\"Your guess is lesser than the random number\")\n",
    "                initialScore -= 1\n",
    "                print(\"The number you entered is wrong!\")\n",
    "                print(\"Take another try...\")\n",
    "                print()\n",
    "    else:\n",
    "        print(\"Try with a number next time!\")"
   ]
  },
  {
   "cell_type": "code",
   "execution_count": null,
   "id": "dbaf93df-f4f4-41a0-a0e5-c5e80c2224ac",
   "metadata": {},
   "outputs": [],
   "source": []
  }
 ],
 "metadata": {
  "kernelspec": {
   "display_name": "Python 3 (ipykernel)",
   "language": "python",
   "name": "python3"
  },
  "language_info": {
   "codemirror_mode": {
    "name": "ipython",
    "version": 3
   },
   "file_extension": ".py",
   "mimetype": "text/x-python",
   "name": "python",
   "nbconvert_exporter": "python",
   "pygments_lexer": "ipython3",
   "version": "3.10.9"
  }
 },
 "nbformat": 4,
 "nbformat_minor": 5
}
