{
 "cells": [
  {
   "cell_type": "markdown",
   "id": "babd0109-d827-4991-9894-160c9a698c0e",
   "metadata": {},
   "source": [
    "<center>\n",
    "<h1>Rana Fahad Aman</h1>\n",
    "<h3>Lab_1 {Assigned Task}</h3>\n",
    "<h4>14 September 2023</h4>\n",
    "</center>"
   ]
  },
  {
   "cell_type": "markdown",
   "id": "49a29cef-20bf-47b2-9515-d1e45f15fdf8",
   "metadata": {},
   "source": [
    "<h2>GPA Calculator</h2>"
   ]
  },
  {
   "cell_type": "code",
   "execution_count": 1,
   "id": "95c2c5b6-8732-4d81-bcf8-e7e907e9b021",
   "metadata": {
    "tags": []
   },
   "outputs": [
    {
     "name": "stdin",
     "output_type": "stream",
     "text": [
      "Enter your name:  Rana Fahad Aman\n",
      "Rana Fahad Aman, enter your current CGPA:  3.14\n",
      "Rana Fahad Aman, enter your passed Credit Hours:  102\n",
      "How many credit hours are you enrolled in the current semester?:  18\n",
      "What is your desired CGPA?:  3.25\n"
     ]
    },
    {
     "name": "stdout",
     "output_type": "stream",
     "text": [
      "You must achieve 3.87 in the current semester to meet your desired goal.\n"
     ]
    }
   ],
   "source": [
    "studentName = input(\"Enter your name: \")\n",
    "currentCGPA = float(input(f\"{studentName}, enter your current CGPA: \"))\n",
    "creditHours = float(input(f\"{studentName}, enter your passed Credit Hours: \"))\n",
    "\n",
    "currentPoints = currentCGPA*creditHours\n",
    "currentSemesterCreditHours = float(input(\"How many credit hours are you enrolled in the current semester?: \"))\n",
    "desiredCGPA = float(input(\"What is your desired CGPA?: \"))\n",
    "\n",
    "creditHoursAfterClearingCurrentSemester = creditHours + currentSemesterCreditHours\n",
    "\n",
    "requiredCGPAInCurrentSemester = ((desiredCGPA*creditHoursAfterClearingCurrentSemester)-(currentPoints))/(currentSemesterCreditHours)\n",
    "if requiredCGPAInCurrentSemester > 4:\n",
    "    print(\"Your desired CGPA is not possible due to your current position.\")\n",
    "    print(f\"The maximum you can achieve is {creditHours*(requiredCGPAInCurrentSemester-4)}\")\n",
    "    print(\"We recommend you to try and improve a course before moving ahead with your degree.\")\n",
    "else:\n",
    "    print(f\"You must achieve {round(requiredCGPAInCurrentSemester,2)} in the current semester to meet your desired goal.\")"
   ]
  },
  {
   "cell_type": "code",
   "execution_count": null,
   "id": "95f22b50-9dac-418f-a908-8afb4eaff3fc",
   "metadata": {},
   "outputs": [],
   "source": []
  }
 ],
 "metadata": {
  "kernelspec": {
   "display_name": "Python 3 (ipykernel)",
   "language": "python",
   "name": "python3"
  },
  "language_info": {
   "codemirror_mode": {
    "name": "ipython",
    "version": 3
   },
   "file_extension": ".py",
   "mimetype": "text/x-python",
   "name": "python",
   "nbconvert_exporter": "python",
   "pygments_lexer": "ipython3",
   "version": "3.10.9"
  }
 },
 "nbformat": 4,
 "nbformat_minor": 5
}
