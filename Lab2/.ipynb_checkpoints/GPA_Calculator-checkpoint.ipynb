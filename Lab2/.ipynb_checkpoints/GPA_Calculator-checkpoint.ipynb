{
 "cells": [
  {
   "cell_type": "code",
   "execution_count": 2,
   "id": "95c2c5b6-8732-4d81-bcf8-e7e907e9b021",
   "metadata": {
    "tags": []
   },
   "outputs": [
    {
     "name": "stdin",
     "output_type": "stream",
     "text": [
      "Enter your name:  Rana Fahad Aman\n",
      "Enter your current CGPA:  3.14\n",
      "Enter your passed Credit Hours:  100\n",
      "How many credit hours are you enrolled in the current semester?:  21\n",
      "What is your desired CGPA?:  3.28\n"
     ]
    },
    {
     "name": "stdout",
     "output_type": "stream",
     "text": [
      "You must achieve 3.95 in the current semester to meet your desired goal.\n"
     ]
    }
   ],
   "source": [
    "studentName = input(\"Enter your name: \")\n",
    "currentCGPA = float(input(f\"{studentName}, enter your current CGPA: \"))\n",
    "creditHours = float(input(f\"{studentName}, enter your passed Credit Hours: \"))\n",
    "\n",
    "currentPoints = currentCGPA*creditHours\n",
    "currentSemesterCreditHours = float(input(\"How many credit hours are you enrolled in the current semester?: \"))\n",
    "desiredCGPA = float(input(\"What is your desired CGPA?: \"))\n",
    "\n",
    "creditHoursAfterClearingCurrentSemester = creditHours + currentSemesterCreditHours\n",
    "\n",
    "requiredCGPAInCurrentSemester = ((desiredCGPA*creditHoursAfterClearingCurrentSemester)-(currentPoints))/(currentSemesterCreditHours)\n",
    "if requiredCGPAInCurrentSemester > 4:\n",
    "    print(\"Your desired CGPA is not possible due to your current position.\")\n",
    "    print(f\"The maximum you can achieve is {creditHours*(requiredCGPAInCurrentSemester-4)}\")\n",
    "    print(\"We recommend you to try and improve a course before moving ahead with your degree.\")\n",
    "else:\n",
    "    print(f\"You must achieve {round(requiredCGPAInCurrentSemester,2)} in the current semester to meet your desired goal.\")"
   ]
  }
 ],
 "metadata": {
  "kernelspec": {
   "display_name": "Python 3 (ipykernel)",
   "language": "python",
   "name": "python3"
  },
  "language_info": {
   "codemirror_mode": {
    "name": "ipython",
    "version": 3
   },
   "file_extension": ".py",
   "mimetype": "text/x-python",
   "name": "python",
   "nbconvert_exporter": "python",
   "pygments_lexer": "ipython3",
   "version": "3.10.9"
  }
 },
 "nbformat": 4,
 "nbformat_minor": 5
}
