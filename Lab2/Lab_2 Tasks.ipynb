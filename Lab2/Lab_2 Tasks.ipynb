{
 "cells": [
  {
   "cell_type": "markdown",
   "id": "79d140e0-5b6c-4a6e-b9c7-76cf6ada6892",
   "metadata": {
    "tags": []
   },
   "source": [
    "<center>\n",
    "<h1>Rana Fahad Aman</h1>\n",
    "<h3>Artificial Intelligence Lab_2</h3>\n",
    "<h4>14 September 2023</h4>\n",
    "</center>"
   ]
  },
  {
   "cell_type": "code",
   "execution_count": 30,
   "id": "abcaf539-c539-40a9-bd38-932f63938b3b",
   "metadata": {},
   "outputs": [
    {
     "name": "stdout",
     "output_type": "stream",
     "text": [
      "{'Afaan Kamran': {'Phone': '0304-4657625', 'Email': 'fa20-bce-053@cuilahore.edu.pk'}, 'Junaid Salman': {'Phone': '0301-5369018', 'Email': 'fa20-bce-044@cuilahore.edu.pk'}, 'Rana Fahad Aman': {'Phone': '0349-4945272', 'Email': 'fa20-bce-021@cuilahore.edu.pk'}}\n"
     ]
    }
   ],
   "source": [
    "#In-Lab Task1\n",
    "phonebook = {}\n",
    "phonebook[\"Afaan Kamran\"]={\"Phone\":\"0304-4657625\",\n",
    "                           \"Email\":\"fa20-bce-053@cuilahore.edu.pk\"}\n",
    "\n",
    "phonebook[\"Junaid Salman\"]={\"Phone\":\"0301-5369018\",\n",
    "                           \"Email\":\"fa20-bce-044@cuilahore.edu.pk\"}\n",
    "\n",
    "phonebook[\"Rana Fahad Aman\"]={\"Phone\":\"0349-4945272\",\n",
    "                           \"Email\":\"fa20-bce-021@cuilahore.edu.pk\"}\n",
    "\n",
    "print(phonebook)"
   ]
  },
  {
   "cell_type": "code",
   "execution_count": 31,
   "id": "bc3e57ae-9cbe-43c1-baa4-a68c89861c09",
   "metadata": {
    "tags": []
   },
   "outputs": [
    {
     "name": "stdout",
     "output_type": "stream",
     "text": [
      "Afaan Kamran's phone number is 0304-4657625, and email is fa20-bce-053@cuilahore.edu.pk\n",
      "Junaid Salman's phone number is 0301-5369018, and email is fa20-bce-044@cuilahore.edu.pk\n",
      "Rana Fahad Aman's phone number is 0349-4945272, and email is fa20-bce-021@cuilahore.edu.pk\n"
     ]
    }
   ],
   "source": [
    "#In-Lab Task2\n",
    "for name, record in phonebook.items():\n",
    "    print(\"{}'s phone number is {}, and email is {}\".format(name,record[\"Phone\"],record[\"Email\"]))"
   ]
  },
  {
   "cell_type": "code",
   "execution_count": 32,
   "id": "e7e6413c-1c4b-43b2-a28d-11a75cd85660",
   "metadata": {
    "tags": []
   },
   "outputs": [
    {
     "name": "stdout",
     "output_type": "stream",
     "text": [
      "Afaan Kamran's phone number is 0304-4657625, and email is fa20-bce-053@cuilahore.edu.pk.\n",
      "Junaid Salman's phone number is 0301-5369018, and email is fa20-bce-044@cuilahore.edu.pk.\n",
      "Rana Fahad Aman's phone number is 0349-4945272, and email is fa20-bce-021@cuilahore.edu.pk.\n",
      "\n",
      "\n",
      "Junaid Salman's phone number is 0301-5369018, and email is fa20-bce-044@cuilahore.edu.pk.\n",
      "Rana Fahad Aman's phone number is 0349-4945272, and email is fa20-bce-021@cuilahore.edu.pk.\n",
      "\n",
      "This record has been popped out of the list:\n",
      "{'Phone': '0301-5369018', 'Email': 'fa20-bce-044@cuilahore.edu.pk'}\n",
      "\n",
      "Rana Fahad Aman's phone number is 0349-4945272, and email is fa20-bce-021@cuilahore.edu.pk.\n"
     ]
    }
   ],
   "source": [
    "#In-Lab Task3\n",
    "for name, record in phonebook.items():\n",
    "    print(\"{}'s phone number is {}, and email is {}.\".format(name, record[\"Phone\"],record[\"Email\"]))\n",
    "print(\"\\n\")\n",
    "del phonebook[\"Afaan Kamran\"]\n",
    "for name, record in phonebook.items():\n",
    "    print(\"{}'s phone number is {}, and email is {}.\".format(name, record[\"Phone\"],record[\"Email\"]))\n",
    "    \n",
    "junaidRecord = phonebook.pop(\"Junaid Salman\")\n",
    "print(\"\\nThis record has been popped out of the list:\\n{}\\n\".format(junaidRecord))\n",
    "\n",
    "for name, record in phonebook.items():\n",
    "    print(\"{}'s phone number is {}, and email is {}.\".format(name, record[\"Phone\"],record[\"Email\"]))\n",
    "\n",
    "#Deleting an already deleted record produces an error when prompted to be removed again."
   ]
  }
 ],
 "metadata": {
  "kernelspec": {
   "display_name": "Python 3 (ipykernel)",
   "language": "python",
   "name": "python3"
  },
  "language_info": {
   "codemirror_mode": {
    "name": "ipython",
    "version": 3
   },
   "file_extension": ".py",
   "mimetype": "text/x-python",
   "name": "python",
   "nbconvert_exporter": "python",
   "pygments_lexer": "ipython3",
   "version": "3.10.9"
  }
 },
 "nbformat": 4,
 "nbformat_minor": 5
}
