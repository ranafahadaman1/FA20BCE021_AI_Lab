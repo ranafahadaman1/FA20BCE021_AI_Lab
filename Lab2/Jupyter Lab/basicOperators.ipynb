{
 "cells": [
  {
   "cell_type": "markdown",
   "id": "cea5d1b2-a32b-47b6-ac35-31e7376c81a0",
   "metadata": {},
   "source": [
    "<center>\n",
    "<h1>Rana Fahad Aman {FA20-BCE-021}</h1>\n",
    "<h3>Basic Operators</h3>\n",
    "</center>"
   ]
  },
  {
   "cell_type": "markdown",
   "id": "e6558fed-554b-44d6-828b-6c13fa3a6f74",
   "metadata": {},
   "source": [
    "<h3>In-Lab Task 4</h3>\n",
    "<h4>{Arithmetic Operators}</h4>"
   ]
  },
  {
   "cell_type": "code",
   "execution_count": 5,
   "id": "25d15f73-5e3d-48d6-9081-444bde57aff3",
   "metadata": {},
   "outputs": [
    {
     "name": "stdout",
     "output_type": "stream",
     "text": [
      "2.5\n",
      "2\n",
      "49\n",
      "8\n"
     ]
    }
   ],
   "source": [
    "number = 1+2*3/4.0\n",
    "print(number)\n",
    "\n",
    "remainder = 11%3\n",
    "print(remainder)\n",
    "\n",
    "squared = 7**(2)\n",
    "print(squared)\n",
    "\n",
    "cubed = 2**(3)\n",
    "print(cubed)"
   ]
  },
  {
   "cell_type": "markdown",
   "id": "4b28be94-2c1e-4b30-b639-e3c8f82e08fb",
   "metadata": {},
   "source": [
    "<h4>{List Operators}</h4>"
   ]
  },
  {
   "cell_type": "code",
   "execution_count": 6,
   "id": "442eb0dd-0c86-43d4-8e8b-2537ee53ed8a",
   "metadata": {},
   "outputs": [
    {
     "name": "stdout",
     "output_type": "stream",
     "text": [
      "[1, 3, 5, 7, 2, 4, 6, 8]\n",
      "[2, 4, 6, 8, 2, 4, 6, 8, 2, 4, 6, 8]\n",
      "xList contains 1 objects.\n",
      "yList contains 1 objects.\n",
      "Joint List contains 2 objects.\n"
     ]
    }
   ],
   "source": [
    "evenNumbers = [2,4,6,8]\n",
    "oddNumbers = [1,3,5,7]\n",
    "Numbers = oddNumbers+evenNumbers\n",
    "print(Numbers)\n",
    "\n",
    "print(evenNumbers*3)\n",
    "\n",
    "x = object()\n",
    "y = object()\n",
    "xList = [x]\n",
    "yList = [y]\n",
    "concatList=[]\n",
    "print(f\"xList contains {len(xList)} objects.\")\n",
    "print(f\"yList contains {len(yList)} objects.\")\n",
    "print(f\"Joint List contains {len(xList)+len(yList)} objects.\")\n",
    "\n",
    "if (xList.count(x)==10 and yList.count(y)==10):\n",
    "    print(\"Almost there...\")\n",
    "if (concatList.count(x)==10 and concatList.count(y)==10):\n",
    "    print(\"Great!\")"
   ]
  },
  {
   "cell_type": "markdown",
   "id": "bd224e31-2f5e-4128-85d7-2ced4e3d7835",
   "metadata": {},
   "source": [
    "<h3>In-Lab Task 5</h3>"
   ]
  },
  {
   "cell_type": "markdown",
   "id": "10d7e403-beb5-4957-8752-de55dfc583f0",
   "metadata": {},
   "source": [
    "<h4>{String Operators}</h4>"
   ]
  },
  {
   "cell_type": "code",
   "execution_count": 7,
   "id": "703c948d-04d1-4073-a53a-96c494bedcd3",
   "metadata": {
    "tags": []
   },
   "outputs": [
    {
     "name": "stdout",
     "output_type": "stream",
     "text": [
      "Hello, World!\n",
      "Hello Hello Hello Hello Hello Hello Hello \n"
     ]
    }
   ],
   "source": [
    "print(\"Hello, World!\")\n",
    "stringToPrint = \"Hello \"\n",
    "print(stringToPrint*7)"
   ]
  },
  {
   "cell_type": "markdown",
   "id": "e217bd15-8599-46b9-9583-54e1f7445fe2",
   "metadata": {},
   "source": [
    "<h3>In-Lab Task 6</h3>"
   ]
  },
  {
   "cell_type": "markdown",
   "id": "1709b2d0-c8f3-40ef-835b-e414572a53d0",
   "metadata": {},
   "source": [
    "<h4>{Logical Conditions}</h4>"
   ]
  },
  {
   "cell_type": "code",
   "execution_count": 8,
   "id": "dcbc91ab-41c0-407d-b5e9-0d749bb6cb2f",
   "metadata": {
    "tags": []
   },
   "outputs": [
    {
     "name": "stdout",
     "output_type": "stream",
     "text": [
      "True\n",
      "False\n",
      "True\n",
      "True\n",
      "True\n",
      "True\n",
      "x==2\n"
     ]
    }
   ],
   "source": [
    "x=2\n",
    "\n",
    "print(x==2)\n",
    "print(x==3)\n",
    "print(x<3)\n",
    "\n",
    "name = \"Fahad\"\n",
    "\n",
    "print(name==\"Fahad\" and x==2)\n",
    "print(name==\"Fahad\" or name==\"John\")\n",
    "print(name in [\"Fahad\",\"John\",\"Jess\"])\n",
    "\n",
    "if x>2:\n",
    "    print(\"Testing 'x'\")\n",
    "    print(\"x > 2\")\n",
    "\n",
    "if x==2:\n",
    "    print(\"x==2\")"
   ]
  },
  {
   "cell_type": "code",
   "execution_count": 9,
   "id": "227ed748-73a5-4da0-b28b-8a456d0d8c93",
   "metadata": {},
   "outputs": [
    {
     "name": "stdout",
     "output_type": "stream",
     "text": [
      "x < 10 or y > 50\n",
      "False\n",
      "True\n",
      "False\n"
     ]
    }
   ],
   "source": [
    "#In-Lab Task 7\n",
    "x = 2\n",
    "y = 10\n",
    "\n",
    "if (x > 2):\n",
    "    print(\"x > 2\")\n",
    "elif(x == 2 and y > 50):\n",
    "    print(\"x == 2 and y > 50\")\n",
    "elif(x < 10 or y > 50):\n",
    "    print(\"x < 10 or y > 50\")\n",
    "else:\n",
    "    print(\"Nothing Worked!\")\n",
    "    \n",
    "nameList1 = [\"John\",\"Jill\"]\n",
    "nameList2 = [\"John\",\"Jill\"]\n",
    "\n",
    "print(not(nameList1==nameList2))\n",
    "name2 = \"John\"\n",
    "print(nameList1 == nameList2)\n",
    "print(nameList1 is nameList2)"
   ]
  },
  {
   "cell_type": "code",
   "execution_count": 10,
   "id": "269a9a11-9270-434a-bcc8-01db671246bf",
   "metadata": {
    "tags": []
   },
   "outputs": [
    {
     "name": "stdout",
     "output_type": "stream",
     "text": [
      "H\n",
      "e\n",
      "l\n",
      "l\n",
      "o\n",
      ",\n",
      " \n",
      "W\n",
      "o\n",
      "r\n",
      "l\n",
      "d\n",
      "!\n",
      "HELLO, WORLD!\n",
      "[1, 2, 3, 4, 5, 6, 7, 8, 9, 10]\n"
     ]
    }
   ],
   "source": [
    "#In-Lab Task 8\n",
    "numericData = []\n",
    "for number in numericData:\n",
    "    result = number*2\n",
    "    print(result)\n",
    "text = \"Hello, World!\"\n",
    "for char in text:\n",
    "    print(char)\n",
    "newText = \"\"\n",
    "for char in text:\n",
    "    if char.isalpha():\n",
    "        newText+=char.upper()\n",
    "    else:\n",
    "        newText +=char\n",
    "print(newText)\n",
    "numericData = []\n",
    "for i in range(1,11):\n",
    "    numericData.append(i)\n",
    "print(numericData)"
   ]
  },
  {
   "cell_type": "code",
   "execution_count": 11,
   "id": "aa4fb930-0083-44c3-bab3-e3be65b53507",
   "metadata": {
    "tags": []
   },
   "outputs": [
    {
     "name": "stdout",
     "output_type": "stream",
     "text": [
      "1\n",
      "2\n",
      "3\n",
      "4\n",
      "5\n",
      "\n",
      "H\n",
      "e\n",
      "l\n",
      "l\n",
      "o\n",
      "\n",
      "Alice: 92\n",
      "Bob: 85\n",
      "Charlie: 78\n",
      "\n"
     ]
    }
   ],
   "source": [
    "#In-Lab Task 9\n",
    "\n",
    "#For Numeric Data\n",
    "count = 1\n",
    "while count<=5:\n",
    "    print(count)\n",
    "    count += 1\n",
    "print(\"\")    \n",
    "#For Strings\n",
    "text = \"Hello\"\n",
    "index = 0\n",
    "while index < len(text):\n",
    "    print(text[index])\n",
    "    index += 1\n",
    "print(\"\")\n",
    "#For Dictionaries\n",
    "studentGrades = {\"Alice\":92, \"Bob\":85, \"Charlie\":78}\n",
    "keys = list(studentGrades.keys())\n",
    "index = 0\n",
    "while (index<len(keys)):\n",
    "    key = keys[index]\n",
    "    value = studentGrades[key]\n",
    "    print(f\"{key}: {value}\")\n",
    "    index+=1\n",
    "print(\"\")"
   ]
  },
  {
   "cell_type": "code",
   "execution_count": 12,
   "id": "a265a8b1-7a01-40f9-a9e3-4b1d91a8e2f2",
   "metadata": {
    "tags": []
   },
   "outputs": [
    {
     "name": "stdin",
     "output_type": "stream",
     "text": [
      "Enter student name:  a\n",
      "Enter student's grade:  1\n",
      "Enter student name:  b\n",
      "Enter student's grade:  2\n",
      "Enter student name:  c\n",
      "Enter student's grade:  3\n",
      "Enter student name:  d\n",
      "Enter student's grade:  4\n",
      "Enter student name:  e\n",
      "Enter student's grade:  5\n",
      "Enter student name:  g\n",
      "Enter student's grade:  6\n",
      "Enter student name:  h\n",
      "Enter student's grade:  7\n"
     ]
    },
    {
     "name": "stdout",
     "output_type": "stream",
     "text": [
      "\n",
      "Average Grade: 4.0\n",
      "\n",
      "List of Students and their respective Grades:\n",
      "a: 1.0 (Needs Improvement)\n",
      "b: 2.0 (Needs Improvement)\n",
      "c: 3.0 (Needs Improvement)\n",
      "d: 4.0 (Needs Improvement)\n",
      "e: 5.0 (Needs Improvement)\n",
      "g: 6.0 (Needs Improvement)\n",
      "h: 7.0 (Needs Improvement)\n"
     ]
    },
    {
     "name": "stdin",
     "output_type": "stream",
     "text": [
      "\n",
      "Enter a student name to search for their grade (or 'quit' to exit):  quit\n"
     ]
    }
   ],
   "source": [
    "#Post Lab Task\n",
    "# Initialize empty lists to store student names and their corresponding grades\n",
    "studentNames = []\n",
    "studentGrades = []\n",
    "\n",
    "# Input grades for at least seven students\n",
    "while len(studentNames) < 7:\n",
    "    name = input(\"Enter student name: \")\n",
    "    if not name.replace(\" \", \"\").isalnum():\n",
    "        print(\"Invalid name input. Please enter a name with letters and spaces only.\")\n",
    "        continue  # Skip this iteration and ask for the name input again\n",
    "\n",
    "    try:\n",
    "        grade = float(input(\"Enter student's grade: \"))\n",
    "    except ValueError:\n",
    "        print(\"Invalid grade input. Please enter a valid number.\")\n",
    "        continue  # Skip this iteration and ask for grade input again\n",
    "\n",
    "    studentNames.append(name)\n",
    "    studentGrades.append(grade)\n",
    "\n",
    "# Function to calculate the average grade\n",
    "def calculateAverageGrade(grades):\n",
    "    total = sum(grades)\n",
    "    return round((total / len(grades)), 3)\n",
    "\n",
    "# Function to categorize grades\n",
    "def categorizeGrade(grade):\n",
    "    if grade >= 90:\n",
    "        return \"Excellent\"\n",
    "    elif grade >= 80:\n",
    "        return \"Very Good\"\n",
    "    elif grade >= 70:\n",
    "        return \"Good\"\n",
    "    else:\n",
    "        return \"Needs Improvement\"\n",
    "\n",
    "# Calculating the average and displaying\n",
    "averageGrade = calculateAverageGrade(studentGrades)\n",
    "print(\"\\nAverage Grade:\", averageGrade)\n",
    "\n",
    "# Display the data of all students\n",
    "print(\"\\nList of Students and their respective Grades:\")\n",
    "for i in range(len(studentNames)):\n",
    "    name = studentNames[i]\n",
    "    grade = studentGrades[i]\n",
    "    print(f\"{name}: {grade} ({categorizeGrade(grade)})\")\n",
    "\n",
    "# Search student records\n",
    "while True:\n",
    "    searchName = input(\"\\nEnter a student name to search for their grade (or 'quit' to exit): \")\n",
    "    if searchName == 'quit':\n",
    "        break\n",
    "    if searchName in studentNames:\n",
    "        index = studentNames.index(searchName)\n",
    "        grade = studentGrades[index]\n",
    "        print(f\"{searchName}'s Grade: {grade} ({categorizeGrade(grade)})\")\n",
    "    else:\n",
    "        print(f\"{searchName} not found in the list of students.\")\n"
   ]
  },
  {
   "cell_type": "code",
   "execution_count": null,
   "id": "99d05431-034c-4bcd-b35c-fe5c26214c80",
   "metadata": {},
   "outputs": [],
   "source": []
  }
 ],
 "metadata": {
  "kernelspec": {
   "display_name": "Python 3 (ipykernel)",
   "language": "python",
   "name": "python3"
  },
  "language_info": {
   "codemirror_mode": {
    "name": "ipython",
    "version": 3
   },
   "file_extension": ".py",
   "mimetype": "text/x-python",
   "name": "python",
   "nbconvert_exporter": "python",
   "pygments_lexer": "ipython3",
   "version": "3.10.9"
  }
 },
 "nbformat": 4,
 "nbformat_minor": 5
}
