{
 "cells": [
  {
   "cell_type": "markdown",
   "id": "4580aa28-123e-47df-ba7a-b4f26e58f624",
   "metadata": {},
   "source": [
    "<center>\n",
    "    <h1>Artificial Intelligence</h1>\n",
    "    <h1>Midterm Lab Exam</h1>\n",
    "    <h2>(26/Oct/2023)</h2>\n",
    "    <h3>FA20-BCE-021</h3>\n",
    "</center>"
   ]
  },
  {
   "cell_type": "code",
   "execution_count": 1,
   "id": "6dd6701d-8a2b-400b-a9ef-27a62e62eb4e",
   "metadata": {
    "tags": []
   },
   "outputs": [
    {
     "name": "stdin",
     "output_type": "stream",
     "text": [
      "Do you want to check fee? yes\n",
      "Enter the index to check the fee: 0\n"
     ]
    },
    {
     "name": "stdout",
     "output_type": "stream",
     "text": [
      "\n",
      "Student with Registration No.4 should pay 50 as a fee.\n",
      "\n"
     ]
    },
    {
     "name": "stdin",
     "output_type": "stream",
     "text": [
      "Do you want to check fee? y\n",
      "Enter the index to check the fee: 1\n"
     ]
    },
    {
     "name": "stdout",
     "output_type": "stream",
     "text": [
      "\n",
      "Student with Registration No. 21 gets 2% discount on the total fee.\n",
      "\n"
     ]
    },
    {
     "name": "stdin",
     "output_type": "stream",
     "text": [
      "Do you want to check fee? y\n",
      "Enter the index to check the fee: 2\n"
     ]
    },
    {
     "name": "stdout",
     "output_type": "stream",
     "text": [
      "\n",
      "Student with Registration No.37 should pay 30 as a fee.\n",
      "\n"
     ]
    },
    {
     "name": "stdin",
     "output_type": "stream",
     "text": [
      "Do you want to check fee? y\n",
      "Enter the index to check the fee: 3\n"
     ]
    },
    {
     "name": "stdout",
     "output_type": "stream",
     "text": [
      "\n",
      "Student with Registration No.44 should pay 50 as a fee.\n",
      "\n"
     ]
    },
    {
     "name": "stdin",
     "output_type": "stream",
     "text": [
      "Do you want to check fee? y\n",
      "Enter the index to check the fee: 4\n"
     ]
    },
    {
     "name": "stdout",
     "output_type": "stream",
     "text": [
      "\n",
      "Student with Registration No. 53 gets 3% discount on the total fee.\n",
      "\n"
     ]
    },
    {
     "name": "stdin",
     "output_type": "stream",
     "text": [
      "Do you want to check fee? y\n",
      "Enter the index to check the fee: 5\n"
     ]
    },
    {
     "name": "stdout",
     "output_type": "stream",
     "text": [
      "Index too high, choose from 0-4\n"
     ]
    },
    {
     "name": "stdin",
     "output_type": "stream",
     "text": [
      "Do you want to check fee? no\n"
     ]
    },
    {
     "name": "stdout",
     "output_type": "stream",
     "text": [
      "Bye!\n"
     ]
    }
   ],
   "source": [
    "#Student data in the form of a List of Dictionaries. We have 5 entries of student data.\n",
    "student_data = [{\n",
    "    'student_id':4,\n",
    "    'course_type':'core', #or 'elective'\n",
    "    'minimum_credits_required':10,\n",
    "    'total_credits_taken':8\n",
    "},\n",
    "{\n",
    "    'student_id':21,\n",
    "    'course_type':'core', #or 'elective'\n",
    "    'minimum_credits_required':10,\n",
    "    'total_credits_taken':12\n",
    "},\n",
    "{\n",
    "    'student_id':37,\n",
    "    'course_type':'elective', #or 'elective'\n",
    "    'minimum_credits_required':10,\n",
    "    'total_credits_taken':8\n",
    "},\n",
    "{\n",
    "    'student_id':44,\n",
    "    'course_type':'core', #or 'elective'\n",
    "    'minimum_credits_required':15,\n",
    "    'total_credits_taken':8\n",
    "},\n",
    "{\n",
    "    'student_id':53,\n",
    "    'course_type':'elective', #or 'elective'\n",
    "    'minimum_credits_required':18,\n",
    "    'total_credits_taken':18\n",
    "}]\n",
    "#Each course is assumed to be of 2 Credit Hours, so courses_taken = total_credit_taken/2;\n",
    "\n",
    "#The function defined below will take the dictionary as an argument and return the appropriate fee or discount for the student.\n",
    "def calculate_fee_or_discount(student_data):\n",
    "        #Initializing the fee variable\n",
    "        fee=0\n",
    "        courses_taken = student_data['total_credits_taken']/2\n",
    "        courses_required = student_data['minimum_credits_required']/2\n",
    "        if courses_required > courses_taken:  # If courses taken were less than required by end of semester\n",
    "            if student_data['course_type'] == 'core': # If course type is 'core'\n",
    "                fee = 50\n",
    "                print(f\"\\nStudent with Registration No.{student_data['student_id']} should pay {fee} as a fee.\\n\")\n",
    "            elif student_data['course_type'] == 'elective': #If course type is 'elective'\n",
    "                fee = 30\n",
    "                print(f\"\\nStudent with Registration No.{student_data['student_id']} should pay {fee} as a fee.\\n\")\n",
    "        elif courses_taken >= courses_required: #If courses taken were more than required by end of semester\n",
    "            if student_data['course_type'] == 'core': # If course type is 'core'\n",
    "                if courses_taken >= 5:\n",
    "                    print(f\"\\nStudent with Registration No. {student_data['student_id']} gets 2% discount on the total fee.\\n\")\n",
    "            elif student_data['course_type'] == 'elective': # If course type is 'elective'\n",
    "                if courses_taken >= 3: \n",
    "                    print(f\"\\nStudent with Registration No. {student_data['student_id']} gets 3% discount on the total fee.\\n\")\n",
    "        return\n",
    "\n",
    "#Input the index to check the fee of the student on that index.\n",
    "while(True):\n",
    "    choice = input(\"Do you want to check fee?\")\n",
    "    if choice == 'yes' or choice =='y': \n",
    "        index = int(input(\"Enter the index to check the fee:\"))\n",
    "        if index <=4:  \n",
    "            calculate_fee_or_discount(student_data[index]) \n",
    "        else:\n",
    "            print(\"Index too high, choose from 0-4\")\n",
    "    else:\n",
    "        print(\"Bye!\")\n",
    "        break"
   ]
  }
 ],
 "metadata": {
  "kernelspec": {
   "display_name": "Python 3 (ipykernel)",
   "language": "python",
   "name": "python3"
  },
  "language_info": {
   "codemirror_mode": {
    "name": "ipython",
    "version": 3
   },
   "file_extension": ".py",
   "mimetype": "text/x-python",
   "name": "python",
   "nbconvert_exporter": "python",
   "pygments_lexer": "ipython3",
   "version": "3.10.9"
  }
 },
 "nbformat": 4,
 "nbformat_minor": 5
}
