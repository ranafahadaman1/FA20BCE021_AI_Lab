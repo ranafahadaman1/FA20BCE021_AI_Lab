{
 "cells": [
  {
   "cell_type": "markdown",
   "id": "75390152-443f-45bd-b160-ea1c6248d5a3",
   "metadata": {
    "tags": []
   },
   "source": [
    "<center>\n",
    "<h1>Rana Fahad Aman</h1>\n",
    "<h3>Artificial Intelligence Lab_3</h3>\n",
    "<h4>19 October 2023</h4>\n",
    "</center>"
   ]
  },
  {
   "cell_type": "markdown",
   "id": "1535ead2-67ad-4334-895c-058ce69bde18",
   "metadata": {},
   "source": [
    "### Pre-Lab Tasks"
   ]
  },
  {
   "cell_type": "code",
   "execution_count": null,
   "id": "c0d87c9d-c937-4144-8c37-24c5642d6f17",
   "metadata": {},
   "outputs": [],
   "source": []
  },
  {
   "cell_type": "markdown",
   "id": "79c33b47-9dd3-4124-b212-6fa488735797",
   "metadata": {},
   "source": [
    "### Lab Tasks"
   ]
  },
  {
   "cell_type": "code",
   "execution_count": null,
   "id": "227dc238-0059-4ed0-aa7c-a01f2b779c68",
   "metadata": {},
   "outputs": [],
   "source": []
  },
  {
   "cell_type": "markdown",
   "id": "0799654f-3c97-43cd-ad0f-35c60bf658f5",
   "metadata": {},
   "source": [
    "### Post-Lab Tasks"
   ]
  },
  {
   "cell_type": "code",
   "execution_count": null,
   "id": "40b7aa19-e6bb-43c8-9c92-b7a2e6792a70",
   "metadata": {},
   "outputs": [],
   "source": []
  }
 ],
 "metadata": {
  "kernelspec": {
   "display_name": "Python 3 (ipykernel)",
   "language": "python",
   "name": "python3"
  },
  "language_info": {
   "codemirror_mode": {
    "name": "ipython",
    "version": 3
   },
   "file_extension": ".py",
   "mimetype": "text/x-python",
   "name": "python",
   "nbconvert_exporter": "python",
   "pygments_lexer": "ipython3",
   "version": "3.10.9"
  }
 },
 "nbformat": 4,
 "nbformat_minor": 5
}
