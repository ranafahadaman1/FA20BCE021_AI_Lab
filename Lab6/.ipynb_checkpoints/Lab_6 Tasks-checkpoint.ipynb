{
 "cells": [
  {
   "cell_type": "markdown",
   "id": "e4373a6e-d8a2-45a5-b244-7f57724b8d46",
   "metadata": {
    "tags": []
   },
   "source": [
    "<center>\n",
    "<h1>Rana Fahad Aman</h1>\n",
    "<h3>Artificial Intelligence Lab_6</h3>\n",
    "<h4>16 November 2023</h4>\n",
    "</center>"
   ]
  },
  {
   "cell_type": "markdown",
   "id": "2edfe959-00bc-417b-b816-401310036fce",
   "metadata": {},
   "source": [
    "# Lab#6 is in the Lab#5 Notebook"
   ]
  }
 ],
 "metadata": {
  "kernelspec": {
   "display_name": "Python 3 (ipykernel)",
   "language": "python",
   "name": "python3"
  },
  "language_info": {
   "codemirror_mode": {
    "name": "ipython",
    "version": 3
   },
   "file_extension": ".py",
   "mimetype": "text/x-python",
   "name": "python",
   "nbconvert_exporter": "python",
   "pygments_lexer": "ipython3",
   "version": "3.10.9"
  }
 },
 "nbformat": 4,
 "nbformat_minor": 5
}
