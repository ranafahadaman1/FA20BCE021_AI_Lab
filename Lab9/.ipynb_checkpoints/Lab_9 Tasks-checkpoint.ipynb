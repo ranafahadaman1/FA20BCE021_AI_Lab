{
 "cells": [
  {
   "cell_type": "markdown",
   "id": "babcd5a1-4941-4ba9-8457-eae0f9477546",
   "metadata": {},
   "source": [
    "<center>\n",
    "<h1>Rana Fahad Aman</h1>\n",
    "<h3>Artificial Intelligence Lab_8</h3>\n",
    "<h4>30 November 2023</h4>\n",
    "</center>"
   ]
  },
  {
   "cell_type": "code",
   "execution_count": 1,
   "id": "86289f7b-f016-4f07-a96d-41dc715355b5",
   "metadata": {
    "tags": []
   },
   "outputs": [
    {
     "name": "stdout",
     "output_type": "stream",
     "text": [
      "Libraries loaded successfully!\n"
     ]
    }
   ],
   "source": [
    "#Importing required libraries \n",
    "import pandas as pd\n",
    "from sklearn.tree import DecisionTreeClassifier\n",
    "from sklearn.model_selection import train_test_split\n",
    "from sklearn import metrics\n",
    "print(\"Libraries Imported Successfully!\")"
   ]
  },
  {
   "cell_type": "code",
   "execution_count": 2,
   "id": "f9713357-9168-4e4c-9a2c-d2d6fb523fb1",
   "metadata": {
    "tags": []
   },
   "outputs": [
    {
     "name": "stdout",
     "output_type": "stream",
     "text": [
      "Dataset loaded successfully!\n"
     ]
    }
   ],
   "source": [
    "#Loading Dataset\n",
    "colNames = ['pregnant', 'glucose', 'bp', 'skin', 'insulin', 'bmi', 'pedigree', 'age', 'label']\n",
    "pima = pd.read_csv(\"diabetes.csv\", header = None, names = colNames)\n",
    "pima_df = pima[1::]\n",
    "pima_df.head(5)\n",
    "print(\"Dataset loaded successfully!\")"
   ]
  },
  {
   "cell_type": "code",
   "execution_count": 3,
   "id": "25c339a6-cbb1-4ac8-b375-633a6699bd67",
   "metadata": {
    "tags": []
   },
   "outputs": [
    {
     "name": "stdout",
     "output_type": "stream",
     "text": [
      "<class 'pandas.core.frame.DataFrame'>\n",
      "RangeIndex: 768 entries, 1 to 768\n",
      "Data columns (total 9 columns):\n",
      " #   Column    Non-Null Count  Dtype \n",
      "---  ------    --------------  ----- \n",
      " 0   pregnant  768 non-null    object\n",
      " 1   glucose   768 non-null    object\n",
      " 2   bp        768 non-null    object\n",
      " 3   skin      768 non-null    object\n",
      " 4   insulin   768 non-null    object\n",
      " 5   bmi       768 non-null    object\n",
      " 6   pedigree  768 non-null    object\n",
      " 7   age       768 non-null    object\n",
      " 8   label     768 non-null    object\n",
      "dtypes: object(9)\n",
      "memory usage: 54.1+ KB\n"
     ]
    }
   ],
   "source": [
    "pima_df.info()"
   ]
  },
  {
   "cell_type": "code",
   "execution_count": 4,
   "id": "c8817025-a400-4115-8abb-6729631a1753",
   "metadata": {
    "tags": []
   },
   "outputs": [
    {
     "data": {
      "text/html": [
       "<div>\n",
       "<style scoped>\n",
       "    .dataframe tbody tr th:only-of-type {\n",
       "        vertical-align: middle;\n",
       "    }\n",
       "\n",
       "    .dataframe tbody tr th {\n",
       "        vertical-align: top;\n",
       "    }\n",
       "\n",
       "    .dataframe thead th {\n",
       "        text-align: right;\n",
       "    }\n",
       "</style>\n",
       "<table border=\"1\" class=\"dataframe\">\n",
       "  <thead>\n",
       "    <tr style=\"text-align: right;\">\n",
       "      <th></th>\n",
       "      <th>pregnant</th>\n",
       "      <th>glucose</th>\n",
       "      <th>bp</th>\n",
       "      <th>skin</th>\n",
       "      <th>insulin</th>\n",
       "      <th>bmi</th>\n",
       "      <th>pedigree</th>\n",
       "      <th>age</th>\n",
       "      <th>label</th>\n",
       "    </tr>\n",
       "  </thead>\n",
       "  <tbody>\n",
       "    <tr>\n",
       "      <th>count</th>\n",
       "      <td>768</td>\n",
       "      <td>768</td>\n",
       "      <td>768</td>\n",
       "      <td>768</td>\n",
       "      <td>768</td>\n",
       "      <td>768</td>\n",
       "      <td>768</td>\n",
       "      <td>768</td>\n",
       "      <td>768</td>\n",
       "    </tr>\n",
       "    <tr>\n",
       "      <th>unique</th>\n",
       "      <td>17</td>\n",
       "      <td>136</td>\n",
       "      <td>47</td>\n",
       "      <td>51</td>\n",
       "      <td>186</td>\n",
       "      <td>248</td>\n",
       "      <td>517</td>\n",
       "      <td>52</td>\n",
       "      <td>2</td>\n",
       "    </tr>\n",
       "    <tr>\n",
       "      <th>top</th>\n",
       "      <td>1</td>\n",
       "      <td>99</td>\n",
       "      <td>70</td>\n",
       "      <td>0</td>\n",
       "      <td>0</td>\n",
       "      <td>32</td>\n",
       "      <td>0.258</td>\n",
       "      <td>22</td>\n",
       "      <td>0</td>\n",
       "    </tr>\n",
       "    <tr>\n",
       "      <th>freq</th>\n",
       "      <td>135</td>\n",
       "      <td>17</td>\n",
       "      <td>57</td>\n",
       "      <td>227</td>\n",
       "      <td>374</td>\n",
       "      <td>13</td>\n",
       "      <td>6</td>\n",
       "      <td>72</td>\n",
       "      <td>500</td>\n",
       "    </tr>\n",
       "  </tbody>\n",
       "</table>\n",
       "</div>"
      ],
      "text/plain": [
       "       pregnant glucose   bp skin insulin  bmi pedigree  age label\n",
       "count       768     768  768  768     768  768      768  768   768\n",
       "unique       17     136   47   51     186  248      517   52     2\n",
       "top           1      99   70    0       0   32    0.258   22     0\n",
       "freq        135      17   57  227     374   13        6   72   500"
      ]
     },
     "execution_count": 4,
     "metadata": {},
     "output_type": "execute_result"
    }
   ],
   "source": [
    "pima_df.describe()"
   ]
  },
  {
   "cell_type": "code",
   "execution_count": 12,
   "id": "ba0c8e38-6cf2-4886-8704-36d6aff6f518",
   "metadata": {
    "tags": []
   },
   "outputs": [
    {
     "name": "stdout",
     "output_type": "stream",
     "text": [
      "pregnant    0\n",
      "glucose     0\n",
      "bp          0\n",
      "skin        0\n",
      "insulin     0\n",
      "bmi         0\n",
      "pedigree    0\n",
      "age         0\n",
      "label       0\n",
      "dtype: int64\n",
      "No NULL data point exists in the dataset anymore!\n"
     ]
    }
   ],
   "source": [
    "#Checking for any NULL data points\n",
    "nullVals = pima_df.isnull().sum()\n",
    "pima_df = pima_df.dropna()\n",
    "print(nullVals)\n",
    "print(\"No NULL data point exists in the dataset anymore!\")"
   ]
  },
  {
   "cell_type": "code",
   "execution_count": 40,
   "id": "0347fd03-c1bc-482b-bd56-8ebfa0a8607e",
   "metadata": {
    "tags": []
   },
   "outputs": [
    {
     "name": "stdout",
     "output_type": "stream",
     "text": [
      "Features Selection Successful!\n"
     ]
    }
   ],
   "source": [
    "#Feature Selection\n",
    "featureCols = ['pregnant', 'glucose', 'bp', 'insulin', 'bmi', 'pedigree', 'age']\n",
    "X = pima_df[featureCols]\n",
    "y = pima_df.glucose\n",
    "print(\"Features Selection Successful!\")"
   ]
  },
  {
   "cell_type": "code",
   "execution_count": 41,
   "id": "105c2efc-239d-4aeb-a6a9-3edb8dd9b4f1",
   "metadata": {
    "tags": []
   },
   "outputs": [
    {
     "name": "stdout",
     "output_type": "stream",
     "text": [
      "Dataset Splitting Done!\n"
     ]
    }
   ],
   "source": [
    "#Splitting the dataset\n",
    "X_train, X_test, y_train, y_test = train_test_split(X, y, test_size = 0.3, random_state = 1)\n",
    "print(\"Dataset Splitting Done!\")"
   ]
  },
  {
   "cell_type": "code",
   "execution_count": 47,
   "id": "213dd95b-df0b-4760-8c58-4724bab29c6d",
   "metadata": {
    "tags": []
   },
   "outputs": [
    {
     "name": "stdout",
     "output_type": "stream",
     "text": [
      "Decision Tree Model Built and Fit successfully!\n"
     ]
    }
   ],
   "source": [
    "#Building the decision tree model\n",
    "model = DecisionTreeClassifier()\n",
    "model = model.fit(X_train, y_train)\n",
    "y_pred = model.predict(X_test)\n",
    "print(\"Decision Tree Model Built and Fit successfully!\")"
   ]
  },
  {
   "cell_type": "code",
   "execution_count": 48,
   "id": "ded95d5e-cf55-4bae-8b07-8e1eb59d027e",
   "metadata": {
    "tags": []
   },
   "outputs": [
    {
     "name": "stdout",
     "output_type": "stream",
     "text": [
      "Accuracy:  90.91 %\n"
     ]
    }
   ],
   "source": [
    "#Evaluating the model\n",
    "print(\"Accuracy: \", round(metrics.accuracy_score(y_test, y_pred),4)*100,\"%\")"
   ]
  },
  {
   "cell_type": "code",
   "execution_count": null,
   "id": "8f20e7d0-3def-4a05-8ea3-e868c25a098b",
   "metadata": {
    "tags": []
   },
   "outputs": [],
   "source": [
    "#Visualizing the Decision Trees\n",
    "from sklearn.tree import export_graphviz\n",
    "import graphviz\n",
    "\n",
    "dotData = export_graphviz(model, out_file = None,\n",
    "                          feature_names = X_train.columns,\n",
    "                         class_names = [str(x) for x in model.classes_],\n",
    "                         filled = True, rounded = True, special_characters = True)\n",
    "graph = graphviz.Source(dotData)\n",
    "graph.render(\"decision_tree\")\n",
    "graph.view(\"decision_tree\")"
   ]
  },
  {
   "cell_type": "code",
   "execution_count": 27,
   "id": "fd39c945-36a2-43b0-af48-36637527a016",
   "metadata": {
    "tags": []
   },
   "outputs": [
    {
     "name": "stdout",
     "output_type": "stream",
     "text": [
      "Accuracy:  9.5 %\n"
     ]
    }
   ],
   "source": [
    "#Optimizing the Decision Tree Performance\n",
    "model = DecisionTreeClassifier(criterion = \"entropy\", max_depth = 3)\n",
    "model = model.fit(X_train,y_train)\n",
    "y_pred = model.predict(X_test)\n",
    "print(\"Accuracy: \", round(metrics.accuracy_score(y_test, y_pred),3)*100,\"%\")"
   ]
  },
  {
   "cell_type": "code",
   "execution_count": null,
   "id": "05e3f635-1d1a-4c26-8f3b-d5b95b02e2cb",
   "metadata": {},
   "outputs": [],
   "source": []
  }
 ],
 "metadata": {
  "kernelspec": {
   "display_name": "Python 3 (ipykernel)",
   "language": "python",
   "name": "python3"
  },
  "language_info": {
   "codemirror_mode": {
    "name": "ipython",
    "version": 3
   },
   "file_extension": ".py",
   "mimetype": "text/x-python",
   "name": "python",
   "nbconvert_exporter": "python",
   "pygments_lexer": "ipython3",
   "version": "3.10.9"
  }
 },
 "nbformat": 4,
 "nbformat_minor": 5
}
