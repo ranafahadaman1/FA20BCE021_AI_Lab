{
 "cells": [
  {
   "cell_type": "markdown",
   "id": "b32cfd4b-1ba0-41e8-b896-9b7f4023e457",
   "metadata": {},
   "source": [
    "<center>\n",
    "<h1>Rana Fahad Aman</h1>\n",
    "<h3>Artificial Intelligence Lab_2</h3>\n",
    "<h4>5 October 2023</h4>\n",
    "</center>"
   ]
  },
  {
   "cell_type": "markdown",
   "id": "21c7ea0e-2fd7-4a4c-a5e7-5557297f56ee",
   "metadata": {},
   "source": [
    "### Pre-Lab Tasks"
   ]
  },
  {
   "cell_type": "code",
   "execution_count": 2,
   "id": "3eac60cc-b573-4bf2-89a7-0cbdcc633241",
   "metadata": {
    "tags": []
   },
   "outputs": [
    {
     "name": "stdout",
     "output_type": "stream",
     "text": [
      "Hello, Rana Fahad Aman\n"
     ]
    }
   ],
   "source": [
    "#Function Definition\n",
    "def greetings(name):\n",
    "    print(f\"Hello, {name}\")\n",
    "greetings(\"Rana Fahad Aman\")"
   ]
  },
  {
   "cell_type": "code",
   "execution_count": 4,
   "id": "8108aeaa-48eb-4b88-834b-7aac7dc4c30c",
   "metadata": {
    "tags": []
   },
   "outputs": [
    {
     "name": "stdout",
     "output_type": "stream",
     "text": [
      "41\n"
     ]
    }
   ],
   "source": [
    "#Function Call\n",
    "def add(a, b):\n",
    "    return a+b\n",
    "result1 = add(20, 21)\n",
    "print(result1)"
   ]
  },
  {
   "cell_type": "code",
   "execution_count": 5,
   "id": "06318154-dcdf-436d-9ab4-4c83164771b3",
   "metadata": {
    "tags": []
   },
   "outputs": [
    {
     "name": "stdout",
     "output_type": "stream",
     "text": [
      "210\n"
     ]
    }
   ],
   "source": [
    "#Return Statement\n",
    "def multiply(x,y):\n",
    "    return x*y\n",
    "result2 = multiply(21,10)\n",
    "print(result2)"
   ]
  },
  {
   "cell_type": "code",
   "execution_count": 6,
   "id": "cfb90b9d-93b5-4b80-9db1-717d9a8aef8a",
   "metadata": {
    "tags": []
   },
   "outputs": [
    {
     "name": "stdout",
     "output_type": "stream",
     "text": [
      "441\n"
     ]
    }
   ],
   "source": [
    "#Default Parameters\n",
    "def power(base, exponent = 2):\n",
    "    return base**exponent\n",
    "result3 = power(21)\n",
    "print(result3)"
   ]
  },
  {
   "cell_type": "code",
   "execution_count": 7,
   "id": "6897fe6e-fb99-4dc3-8b13-dfa9c57447fe",
   "metadata": {
    "tags": []
   },
   "outputs": [
    {
     "name": "stdout",
     "output_type": "stream",
     "text": [
      "10\n"
     ]
    }
   ],
   "source": [
    "#Variable Length Arguments\n",
    "def sumAll(*numbers):\n",
    "    return sum(numbers)\n",
    "result4 = sumAll(1,2,3,4)\n",
    "print(result4)"
   ]
  },
  {
   "cell_type": "code",
   "execution_count": 9,
   "id": "969476a8-d955-4e21-9c63-9c6aa3918f05",
   "metadata": {
    "tags": []
   },
   "outputs": [
    {
     "name": "stdout",
     "output_type": "stream",
     "text": [
      "25\n"
     ]
    }
   ],
   "source": [
    "#Lambda Functions (Anonymous Functions)\n",
    "square = lambda x:x**2\n",
    "result5 = square(5)\n",
    "print(result5)"
   ]
  },
  {
   "cell_type": "code",
   "execution_count": 11,
   "id": "8cdfd0ac-433d-481c-b09e-a6dcdbe9d93e",
   "metadata": {
    "tags": []
   },
   "outputs": [
    {
     "name": "stdout",
     "output_type": "stream",
     "text": [
      "21\n",
      "5\n"
     ]
    }
   ],
   "source": [
    "#Scope\n",
    "globalVar = 21\n",
    "def myFunction():\n",
    "    localVar = 5\n",
    "    print(globalVar)\n",
    "    print(localVar)\n",
    "myFunction()"
   ]
  },
  {
   "cell_type": "code",
   "execution_count": 30,
   "id": "c5232cd8-55cf-4c20-8153-9dd2d8f45218",
   "metadata": {
    "tags": []
   },
   "outputs": [
    {
     "name": "stdout",
     "output_type": "stream",
     "text": [
      "5\n",
      "0\n",
      "0\n",
      "There are 5 even numbers and 5 odd numbers in the list.\n",
      "There are 0 even numbers and 4 odd numbers in the list.\n",
      "There are 0 even numbers and 0 odd numbers in the list.\n"
     ]
    }
   ],
   "source": [
    "#In-Lab Tasks\n",
    "#In-Lab Task1\n",
    "def countEvenNumbers(numberList):\n",
    "    evenCount = 0\n",
    "    for number in numberList:\n",
    "        if (number % 2 == 0):\n",
    "            evenCount += 1\n",
    "    print(evenCount)\n",
    "\n",
    "numberList1 = [1,2,3,4,5,6,7,8,9,10]\n",
    "numberList2 = [11,13,15,17]\n",
    "numberList3 = []\n",
    "\n",
    "countEvenNumbers(numberList1)\n",
    "countEvenNumbers(numberList2)\n",
    "countEvenNumbers(numberList3)\n",
    "\n",
    "def countOdd_EvenNumbers(numberList):\n",
    "    evenCount = 0\n",
    "    oddCount = 0\n",
    "    for number in numberList:\n",
    "        if (number % 2 == 0):\n",
    "            evenCount += 1\n",
    "        else:\n",
    "            oddCount += 1\n",
    "    print(f\"There are {evenCount} even numbers and {oddCount} odd numbers in the list.\")\n",
    "    \n",
    "countOdd_EvenNumbers(numberList1)\n",
    "countOdd_EvenNumbers(numberList2)\n",
    "countOdd_EvenNumbers(numberList3)"
   ]
  },
  {
   "cell_type": "code",
   "execution_count": 67,
   "id": "3bd3acb2-c704-452f-9a25-67b6bb06d990",
   "metadata": {
    "tags": []
   },
   "outputs": [
    {
     "name": "stdout",
     "output_type": "stream",
     "text": [
      "Name: Rana Fahad Aman\n",
      "Grades: A, B+, A, B-, C-\n",
      "Grade Points: 15.65\n",
      "GPA: 3.13\n",
      "\n",
      "Name: Afaan Kamran\n",
      "Grades: B+, A, B-, A, A-\n",
      "Grade Points: 17.65\n",
      "GPA: 3.53\n",
      "\n",
      "Name: Shaheer Farhan\n",
      "Grades: C, D, F, B+, A-\n",
      "Grade Points: 9.99\n",
      "GPA: 2.0\n",
      "\n",
      "Name: Malaika Asghar\n",
      "Grades: A, A, A, B+, A\n",
      "Grade Points: 19.33\n",
      "GPA: 3.87\n",
      "\n",
      "Name: Daud Hassan\n",
      "Grades: F, D+, D, C, B+\n",
      "Grade Points: 7.63\n",
      "GPA: 1.53\n",
      "\n"
     ]
    }
   ],
   "source": [
    "#In-Lab Task 2\n",
    "def calculateGPA(studentData):\n",
    "    result = []\n",
    "\n",
    "    for student in studentData:\n",
    "        name = student['name']\n",
    "        marks = student['marks']\n",
    "        totalGradePoints = 0\n",
    "        totalCourses = len(marks)\n",
    "        grades = []\n",
    "\n",
    "        for mark in marks:\n",
    "            if 85 <= mark <= 100:\n",
    "                grade = 'A'\n",
    "                gradePoint = 4.00\n",
    "            elif 80 <= mark <= 84:\n",
    "                grade = 'A-'\n",
    "                gradePoint = 3.66\n",
    "            elif 75 <= mark <= 79:\n",
    "                grade = 'B+'\n",
    "                gradePoint = 3.33\n",
    "            elif 71 <= mark <= 74:\n",
    "                grade = 'B'\n",
    "                gradePoint = 3.00\n",
    "            elif 68 <= mark <= 70:\n",
    "                grade = 'B-'\n",
    "                gradePoint = 2.66\n",
    "            elif 64 <= mark <= 67:\n",
    "                grade = 'C+'\n",
    "                gradePoint = 2.33\n",
    "            elif 61 <= mark <= 63:\n",
    "                grade = 'C'\n",
    "                gradePoint = 2.00\n",
    "            elif 58 <= mark <= 60:\n",
    "                grade = 'C-'\n",
    "                gradePoint = 1.66\n",
    "            elif 54 <= mark <= 57:\n",
    "                grade = 'D+'\n",
    "                gradePoint = 1.30\n",
    "            elif 50 <= mark <= 53:\n",
    "                grade = 'D'\n",
    "                gradePoint = 1.00\n",
    "            else:\n",
    "                grade = 'F'\n",
    "                gradePoint = 0.00\n",
    "\n",
    "            grades.append(grade)\n",
    "            totalGradePoints += gradePoint\n",
    "\n",
    "        gpa = totalGradePoints / totalCourses if totalCourses > 0 else 0.00\n",
    "\n",
    "        studentInfo = {\n",
    "            'name': name,\n",
    "            'grades': grades,\n",
    "            'gradePoints': totalGradePoints,\n",
    "            'gpa': round(gpa, 2)\n",
    "        }\n",
    "\n",
    "        result.append(studentInfo)\n",
    "\n",
    "    return result\n",
    "\n",
    "# Data for five students\n",
    "students = [\n",
    "    {'name': 'Rana Fahad Aman', 'marks': [85, 75, 92, 68, 60]},\n",
    "    {'name': 'Afaan Kamran', 'marks': [78, 88, 70, 92, 81]},\n",
    "    {'name': 'Shaheer Farhan', 'marks': [62, 53, 45, 75, 80]},\n",
    "    {'name': 'Malaika Asghar', 'marks': [95, 89, 92, 78, 86]},\n",
    "    {'name': 'Daud Hassan', 'marks': [45, 55, 50, 62, 75]},\n",
    "]\n",
    "\n",
    "# Calculating GPA of the students\n",
    "gpaResults = calculateGPA(students)\n",
    "\n",
    "# Printing the results\n",
    "for studentInfo in gpaResults:\n",
    "    print(f\"Name: {studentInfo['name']}\")\n",
    "    print(f\"Grades: {', '.join(studentInfo['grades'])}\")\n",
    "    print(f\"Grade Points: {studentInfo['gradePoints']}\")\n",
    "    print(f\"GPA: {studentInfo['gpa']}\\n\")"
   ]
  },
  {
   "cell_type": "code",
   "execution_count": 28,
   "id": "c0261865-5a76-4372-abbd-ec4fd4c9b4de",
   "metadata": {
    "tags": []
   },
   "outputs": [
    {
     "name": "stdout",
     "output_type": "stream",
     "text": [
      "Toyota\n",
      "Prius\n",
      "Toyota Prius\n"
     ]
    }
   ],
   "source": [
    "#Class\n",
    "#Class Declaration\n",
    "class Car:\n",
    "    #pass      #Placeholder for class body\n",
    "    def __init__(self, make, model):   #__init__ is a constructor\n",
    "        self.make = make\n",
    "        self.model = model\n",
    "    def displayInfo(self):\n",
    "        print(f\"{self.make} {self.model}\")\n",
    "\n",
    "myCar1 = Car(\"Toyota\",\"Prius\")\n",
    "print(myCar1.make)\n",
    "print(myCar1.model)\n",
    "myCar1.displayInfo()"
   ]
  },
  {
   "cell_type": "code",
   "execution_count": 57,
   "id": "b46aa2d9-15c1-4801-ba4a-022867d57632",
   "metadata": {
    "tags": []
   },
   "outputs": [
    {
     "name": "stdout",
     "output_type": "stream",
     "text": [
      "Marks at Object Initialiation: [40, 50, 60]\n",
      "Student Name: Rana Fahad Aman\n",
      "Roll Number: 21\n",
      "Marks: [40, 50, 60]\n",
      "Updated marks after addition: [40, 50, 60, 70]\n",
      "Updated marks after addition: [40, 50, 60, 70, 55]\n",
      "The average marks of Rana Fahad Aman is 55.00\n"
     ]
    }
   ],
   "source": [
    "#In-Lab Task 3\n",
    "class Student:\n",
    "    def __init__(self, name, rollNumber, *marks):\n",
    "        self.name = name\n",
    "        self.rollNumber = rollNumber\n",
    "        self.marks = list(marks)  # Convert marks to a list\n",
    "        print(f\"Marks at Object Initialiation: {self.marks}\")\n",
    "\n",
    "    def addMarks(self, mark):\n",
    "        self.marks.append(mark)\n",
    "        print(f\"Updated marks after addition: {self.marks}\")\n",
    "\n",
    "    def calculateAverage(self):\n",
    "        totalMarks = sum(self.marks)\n",
    "        totalMarksEntries = len(self.marks)\n",
    "        if totalMarksEntries > 0:\n",
    "            print(f\"The average marks of {self.name} is {totalMarks / totalMarksEntries:.2f}\")\n",
    "        else:\n",
    "            print(\"No marks available for calculation.\")\n",
    "\n",
    "# Create an object of the Student class\n",
    "student1 = Student(\"Rana Fahad Aman\", 21, 40, 50, 60)\n",
    "\n",
    "print(f\"Student Name: {student1.name}\")\n",
    "print(f\"Roll Number: {student1.rollNumber}\")\n",
    "print(f\"Marks: {student1.marks}\")\n",
    "\n",
    "# Add more marks\n",
    "student1.addMarks(70)\n",
    "student1.addMarks(55)\n",
    "\n",
    "# Calculate the average marks\n",
    "student1.calculateAverage()"
   ]
  },
  {
   "cell_type": "code",
   "execution_count": 65,
   "id": "2d4f62cd-9446-4ba8-8fb3-ca96c117c4b1",
   "metadata": {
    "tags": []
   },
   "outputs": [
    {
     "name": "stdout",
     "output_type": "stream",
     "text": [
      "You have borrowed 'Charlie and the Chocolate Factory' by Roald Dahl.\n",
      "You have borrowed 'To Kill a Mockingbird' by Harper Lee.\n",
      "You have returned 'Charlie and the Chocolate Factory' by Roald Dahl. Thank you!\n",
      "You have returned 'To Kill a Mockingbird' by Harper Lee. Thank you!\n",
      "'To Kill a Mockingbird' by Harper Lee has already been returned.\n",
      "You have borrowed 'Harry Potter' by J.K. Rowling.\n",
      "'Harry Potter' is currently not available as it already has been borrowed by someone.\n"
     ]
    }
   ],
   "source": [
    "#Post-Lab\n",
    "#Post-Lab Task (Library Management System)\n",
    "class Book:\n",
    "    def __init__(self, title, author):\n",
    "        self.title = title\n",
    "        self.author = author\n",
    "        self.available = True\n",
    "\n",
    "    def borrow(self):\n",
    "        if self.available:\n",
    "            self.available = False\n",
    "            return f\"You have borrowed '{self.title}' by {self.author}.\"\n",
    "        else:\n",
    "            return f\"'{self.title}' is currently not available as it already has been borrowed by someone.\"\n",
    "\n",
    "    def returnBook(self):\n",
    "        if not self.available:\n",
    "            self.available = True\n",
    "            return f\"You have returned '{self.title}' by {self.author}. Thank you!\"\n",
    "        else:\n",
    "            return f\"'{self.title}' by {self.author} has already been returned.\"\n",
    "\n",
    "#Creating dummy Book objects\n",
    "book1 = Book(\"Charlie and the Chocolate Factory\", \"Roald Dahl\")\n",
    "book2 = Book(\"To Kill a Mockingbird\", \"Harper Lee\")\n",
    "book3 = Book(\"Harry Potter\", \"J.K. Rowling\")\n",
    "\n",
    "print(book1.borrow())\n",
    "print(book2.borrow())\n",
    "print(book1.returnBook())\n",
    "print(book2.returnBook())\n",
    "print(book2.returnBook())\n",
    "print(book3.borrow())\n",
    "print(book3.borrow())"
   ]
  },
  {
   "cell_type": "code",
   "execution_count": null,
   "id": "b3d012ae-90c5-493c-9b28-36cd8db5a23d",
   "metadata": {},
   "outputs": [],
   "source": []
  }
 ],
 "metadata": {
  "kernelspec": {
   "display_name": "Python 3 (ipykernel)",
   "language": "python",
   "name": "python3"
  },
  "language_info": {
   "codemirror_mode": {
    "name": "ipython",
    "version": 3
   },
   "file_extension": ".py",
   "mimetype": "text/x-python",
   "name": "python",
   "nbconvert_exporter": "python",
   "pygments_lexer": "ipython3",
   "version": "3.10.9"
  }
 },
 "nbformat": 4,
 "nbformat_minor": 5
}
