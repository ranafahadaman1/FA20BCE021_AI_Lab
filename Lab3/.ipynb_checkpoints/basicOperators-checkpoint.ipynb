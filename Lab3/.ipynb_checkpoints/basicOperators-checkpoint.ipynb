{
 "cells": [
  {
   "cell_type": "markdown",
   "id": "cea5d1b2-a32b-47b6-ac35-31e7376c81a0",
   "metadata": {},
   "source": [
    "<center>\n",
    "<h1>Basic Operators</h1>\n",
    "</center>"
   ]
  },
  {
   "cell_type": "markdown",
   "id": "f415dec9-b4e5-47b1-b6c9-1e690d6d3162",
   "metadata": {},
   "source": [
    "### Arithmetic Operators"
   ]
  },
  {
   "cell_type": "code",
   "execution_count": 14,
   "id": "a8e03621-d207-475a-88e9-1891406e867f",
   "metadata": {},
   "outputs": [
    {
     "name": "stdout",
     "output_type": "stream",
     "text": [
      "2.5\n"
     ]
    }
   ],
   "source": [
    "number = 1+2*3/4.0\n",
    "print(number)"
   ]
  },
  {
   "cell_type": "code",
   "execution_count": 15,
   "id": "ac2ddd8e-1d38-4ae6-b4ac-a76849229951",
   "metadata": {
    "tags": []
   },
   "outputs": [
    {
     "name": "stdout",
     "output_type": "stream",
     "text": [
      "2\n"
     ]
    }
   ],
   "source": [
    "remainder = 11%3\n",
    "print(remainder)"
   ]
  },
  {
   "cell_type": "code",
   "execution_count": 16,
   "id": "03f12e99-b4a0-4138-8972-dc6a17147ade",
   "metadata": {
    "tags": []
   },
   "outputs": [
    {
     "name": "stdout",
     "output_type": "stream",
     "text": [
      "49\n"
     ]
    }
   ],
   "source": [
    "squared = 7**(2)\n",
    "print(squared)"
   ]
  },
  {
   "cell_type": "code",
   "execution_count": 17,
   "id": "ce6964bd-22f5-4fd7-ba7e-69dc5e7c3182",
   "metadata": {
    "tags": []
   },
   "outputs": [
    {
     "name": "stdout",
     "output_type": "stream",
     "text": [
      "8\n"
     ]
    }
   ],
   "source": [
    "cubed = 2**(3)\n",
    "print(cubed)"
   ]
  },
  {
   "cell_type": "markdown",
   "id": "4b28be94-2c1e-4b30-b639-e3c8f82e08fb",
   "metadata": {},
   "source": [
    "### List Operators"
   ]
  },
  {
   "cell_type": "code",
   "execution_count": 18,
   "id": "6e16df4a-2e5d-4693-a426-4ed7012de34e",
   "metadata": {
    "tags": []
   },
   "outputs": [
    {
     "name": "stdout",
     "output_type": "stream",
     "text": [
      "[1, 3, 5, 7, 2, 4, 6, 8]\n"
     ]
    }
   ],
   "source": [
    "evenNumbers = [2,4,6,8]\n",
    "oddNumbers = [1,3,5,7]\n",
    "Numbers = oddNumbers+evenNumbers\n",
    "print(Numbers)"
   ]
  },
  {
   "cell_type": "code",
   "execution_count": 19,
   "id": "800f9663-f55a-478a-8239-652331b6455d",
   "metadata": {
    "tags": []
   },
   "outputs": [
    {
     "name": "stdout",
     "output_type": "stream",
     "text": [
      "[2, 4, 6, 8, 2, 4, 6, 8, 2, 4, 6, 8]\n"
     ]
    }
   ],
   "source": [
    "print(evenNumbers*3)"
   ]
  },
  {
   "cell_type": "code",
   "execution_count": null,
   "id": "9b2ab9ea-04ac-4a11-876f-10aa337e43d7",
   "metadata": {},
   "outputs": [],
   "source": [
    "x = object()\n",
    "y = object()\n",
    "xList = [x]\n",
    "yList = [y]\n",
    "concatList=[]\n",
    "print(f\"xList contains {len(xList)} objects.\")\n",
    "print(f\"yList contains {len(yList)} objects.\")\n",
    "print(f\"Joint List contains {len(xList)+len(yList)} objects.\")\n",
    "\n",
    "if (xList.count(x)==10 and yList.count(y)==10):\n",
    "    print(\"Almost there...\")"
   ]
  },
  {
   "cell_type": "markdown",
   "id": "10d7e403-beb5-4957-8752-de55dfc583f0",
   "metadata": {},
   "source": [
    "### String Operators"
   ]
  },
  {
   "cell_type": "code",
   "execution_count": 22,
   "id": "703c948d-04d1-4073-a53a-96c494bedcd3",
   "metadata": {
    "tags": []
   },
   "outputs": [
    {
     "name": "stdout",
     "output_type": "stream",
     "text": [
      "Hello, World!\n",
      "Hello Hello Hello Hello Hello Hello Hello \n"
     ]
    }
   ],
   "source": [
    "print(\"Hello, World!\")\n",
    "stringToPrint = \"Hello \"\n",
    "print(stringToPrint*7)"
   ]
  },
  {
   "cell_type": "markdown",
   "id": "1709b2d0-c8f3-40ef-835b-e414572a53d0",
   "metadata": {},
   "source": [
    "### Logical Conditions"
   ]
  },
  {
   "cell_type": "code",
   "execution_count": 27,
   "id": "dcbc91ab-41c0-407d-b5e9-0d749bb6cb2f",
   "metadata": {
    "tags": []
   },
   "outputs": [
    {
     "name": "stdout",
     "output_type": "stream",
     "text": [
      "True\n",
      "False\n",
      "True\n",
      "True\n",
      "True\n",
      "True\n",
      "x==2\n"
     ]
    }
   ],
   "source": [
    "x=2\n",
    "\n",
    "print(x==2)\n",
    "print(x==3)\n",
    "print(x<3)\n",
    "\n",
    "name = \"Fahad\"\n",
    "\n",
    "print(name==\"Fahad\" and x==2)\n",
    "print(name==\"Fahad\" or name==\"John\")\n",
    "print(name in [\"Fahad\",\"John\",\"Jess\"])\n",
    "\n",
    "if x>2:\n",
    "    print(\"Testing 'x'\")\n",
    "    print(\"x > 2\")\n",
    "\n",
    "if x==2:\n",
    "    print(\"x==2\")"
   ]
  },
  {
   "cell_type": "code",
   "execution_count": null,
   "id": "2b3d45cb-431a-428a-a356-7f75a84e1443",
   "metadata": {},
   "outputs": [],
   "source": []
  }
 ],
 "metadata": {
  "kernelspec": {
   "display_name": "Python 3 (ipykernel)",
   "language": "python",
   "name": "python3"
  },
  "language_info": {
   "codemirror_mode": {
    "name": "ipython",
    "version": 3
   },
   "file_extension": ".py",
   "mimetype": "text/x-python",
   "name": "python",
   "nbconvert_exporter": "python",
   "pygments_lexer": "ipython3",
   "version": "3.10.9"
  }
 },
 "nbformat": 4,
 "nbformat_minor": 5
}
