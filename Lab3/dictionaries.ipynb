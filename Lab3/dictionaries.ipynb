{
 "cells": [
  {
   "cell_type": "markdown",
   "id": "f8a7b921-4e1f-44a8-b21d-fbe985001423",
   "metadata": {},
   "source": [
    "<h1>Rana Fahad Aman</h1>\n",
    "<h3>FA20-BCE-021</h3>\n",
    "<h4>21/09/2023</h4>\n",
    "<center>"
   ]
  },
  {
   "cell_type": "markdown",
   "id": "2c749b09-417b-472b-94b2-72b85f33181c",
   "metadata": {},
   "source": [
    "# Lab #2: Python Data Types, Basic Operators, Logical Conditions and Loops "
   ]
  },
  {
   "cell_type": "code",
   "execution_count": 1,
   "id": "a9a78b03-0472-4269-8392-9e7b602a1a08",
   "metadata": {
    "tags": []
   },
   "outputs": [],
   "source": [
    "#Initializing a key list to cross check existence of key in Dict\n",
    "keyList = [\"name\",\"email\",\"gender\"]\n",
    "\n",
    "#Student Data Addition function\n",
    "def studentDataAdd():\n",
    "    newStudentRegNum = input(\"\\nEnter the registration of the new student whose data is to be added: \")\n",
    "    if newStudentRegNum not in studentData:\n",
    "        newStudentName = str(input(\"Enter the name of the new student: \"))\n",
    "        newStudentEmail = input(\"Enter the email of the new student: \")\n",
    "        newStudentGender = input(\"Enter the gender of the new student: \")\n",
    "        studentData[newStudentRegNum] = {\n",
    "            \"Name\":newStudentName,\n",
    "            \"Email\":newStudentEmail,\n",
    "            \"Gender\": newStudentGender\n",
    "        }\n",
    "        \n",
    "#This did not work!!!\n",
    "#        studentData[newStudentRegNum][\"Name\"] = newStudentName\n",
    "#        studentData[newStudentRegNum][\"Email\"] = newStudentEmail\n",
    "#        studentData[newStudentRegNum][\"Gender\"] = newStudentGender\n",
    "        print(\"\\nThe data of the new added student is:\\n\"+\"Name: \"+newStudentName+\"\\nEmail: \"+newStudentEmail+\"\\nGender: \"+newStudentGender+\"\\n\")\n",
    "    else:\n",
    "        print(\"The entered registration number already exists in our records.\\n\")\n",
    "        \n",
    "        \n",
    "#Student Data Fetching function\n",
    "def studentDataFetch():\n",
    "    outputStudent = input(\"Enter the registration number of the student to fetch his/her data: \")\n",
    "    if (outputStudent) in studentData:\n",
    "        print(\"\\n\"+\"Name: \"+studentData[outputStudent][\"Name\"]+\"\\nEmail: \"+studentData[outputStudent][\"Email\"]+\"\\nGender: \"+studentData[outputStudent][\"Gender\"]+\"\\n\")\n",
    "    else:\n",
    "        print(\"\\nStudent Registration \"+outputStudent+\" not found in the records\\n\")\n",
    "        \n",
    "\n",
    "#Student Data Editing function\n",
    "def studentDataEdit():\n",
    "    studentRegistrationNum = input(\"Enter the registration number of the student whose data needs to be changed: \")\n",
    "    if studentRegistrationNum not in studentData:\n",
    "        print(\"Student Registration \"+ studentRegistrationNum +\" not found in the records.\\n\")\n",
    "    else:\n",
    "        keyToTarget = input(\"Enter the key that needs to be changed: \")\n",
    "        if (keyToTarget).lower() not in keyList:\n",
    "            print(\"Given key is invalid.\")\n",
    "        else:\n",
    "            studentData[studentRegistrationNum][keyToTarget] = input(\"Enter the new value for the key: \")\n",
    "            print(\"\\n The updated data is as follows: \")\n",
    "            print(studentData[studentRegistrationNum])  \n",
    "            print(\"\\n\")\n",
    "            \n",
    "#Student Data Deletion function\n",
    "def studentDataDelete():\n",
    "    studentDeleteInput = input(\"Enter the registration number of the student whose data is to be deleted: \")\n",
    "    if studentDeleteInput not in studentData:\n",
    "        print(\"The registration number does not exist in out records.\\n\")\n",
    "    else:\n",
    "        print(f\"The following data has been deleted of registration number: {studentDeleteInput}\\n\")\n",
    "        print(studentData[studentDeleteInput])\n",
    "        print(\"\\n\")\n",
    "        del studentData[studentDeleteInput]\n",
    "\n",
    "#List all student data\n",
    "def listAllStudents():\n",
    "    for i in studentData:\n",
    "        print(\"Registration Number: \"+i)\n",
    "        print(studentData[i])\n",
    "        print(\"\\n\")\n",
    "        \n",
    "\n",
    "#Menu Options\n",
    "def Menu():\n",
    "    print(\"1- Add Student Data\")\n",
    "    print(\"2- Fetch Student Data\")\n",
    "    print(\"3- Edit Student Data\")\n",
    "    print(\"4- Delete Student Data\")\n",
    "    print(\"5- List all Student Data\")\n",
    "    print(\"6- Quit Program\")\n",
    "    option = int(input(\"Choose an option from the menu above: \"))\n",
    "    \n",
    "    if(option == 1):\n",
    "        studentDataAdd()\n",
    "        innerChoice = (\"Do you want to continue?(y/n): \")\n",
    "        if (innerChoice.lower() == 'y'):\n",
    "            print(\"Moving on...\")\n",
    "        elif(innerChoice.lower() =='n'):\n",
    "            print(\"Breaking the loop.\")\n",
    "            return\n",
    "        elif(innerChoice is None):\n",
    "            print(\"Enter some valid input!!!\")\n",
    "            return\n",
    "\n",
    "    elif(option == 2):\n",
    "        studentDataFetch()\n",
    "    elif(option == 3):\n",
    "        studentDataEdit()\n",
    "    elif(option == 4):\n",
    "        studentDataDelete()\n",
    "    elif(option == 5):\n",
    "        listAllStudents()\n",
    "    elif(option == 6):\n",
    "        print(\"\\nGoodBye!!!\\n\")\n",
    "        return\n",
    "    else:\n",
    "        print(\"Invalid Choice.\\n Try Again.\")"
   ]
  },
  {
   "cell_type": "code",
   "execution_count": 2,
   "id": "22580272-4a1e-4a08-a501-91e786527854",
   "metadata": {
    "tags": []
   },
   "outputs": [
    {
     "name": "stdin",
     "output_type": "stream",
     "text": [
      "Do you want to start the program?(y/n) y\n"
     ]
    },
    {
     "name": "stdout",
     "output_type": "stream",
     "text": [
      "1- Add Student Data\n",
      "2- Fetch Student Data\n",
      "3- Edit Student Data\n",
      "4- Delete Student Data\n",
      "5- List all Student Data\n",
      "6- Quit Program\n"
     ]
    },
    {
     "name": "stdin",
     "output_type": "stream",
     "text": [
      "Choose an option from the menu above:  1\n",
      "\n",
      "Enter the registration of the new student whose data is to be added:  FA20-BCE-000\n",
      "Enter the name of the new student:  Umair Shafiq\n",
      "Enter the email of the new student:  umairshafiqkhan@yahoo.com\n",
      "Enter the gender of the new student:  Male\n"
     ]
    },
    {
     "name": "stdout",
     "output_type": "stream",
     "text": [
      "\n",
      "The data of the new added student is:\n",
      "Name: Umair Shafiq\n",
      "Email: umairshafiqkhan@yahoo.com\n",
      "Gender: Male\n",
      "\n"
     ]
    },
    {
     "name": "stdin",
     "output_type": "stream",
     "text": [
      "Do you want to continue?(y/n):  y\n"
     ]
    },
    {
     "name": "stdout",
     "output_type": "stream",
     "text": [
      "1- Add Student Data\n",
      "2- Fetch Student Data\n",
      "3- Edit Student Data\n",
      "4- Delete Student Data\n",
      "5- List all Student Data\n",
      "6- Quit Program\n"
     ]
    },
    {
     "name": "stdin",
     "output_type": "stream",
     "text": [
      "Choose an option from the menu above:  2\n",
      "Enter the registration number of the student to fetch his/her data:  FA20-BCE-000\n"
     ]
    },
    {
     "name": "stdout",
     "output_type": "stream",
     "text": [
      "\n",
      "Name: Umair Shafiq\n",
      "Email: umairshafiqkhan@yahoo.com\n",
      "Gender: Male\n",
      "\n"
     ]
    },
    {
     "name": "stdin",
     "output_type": "stream",
     "text": [
      "Do you want to continue?(y/n):  y\n"
     ]
    },
    {
     "name": "stdout",
     "output_type": "stream",
     "text": [
      "1- Add Student Data\n",
      "2- Fetch Student Data\n",
      "3- Edit Student Data\n",
      "4- Delete Student Data\n",
      "5- List all Student Data\n",
      "6- Quit Program\n"
     ]
    },
    {
     "name": "stdin",
     "output_type": "stream",
     "text": [
      "Choose an option from the menu above:  3\n",
      "Enter the registration number of the student whose data needs to be changed:  FA20-BCE-000\n",
      "Enter the key that needs to be changed:  Name\n",
      "Enter the new value for the key:  Engr. Umair Shafiq Khan\n"
     ]
    },
    {
     "name": "stdout",
     "output_type": "stream",
     "text": [
      "\n",
      " The updated data is as follows: \n",
      "{'Name': 'Engr. Umair Shafiq Khan', 'Email': 'umairshafiqkhan@yahoo.com', 'Gender': 'Male'}\n",
      "\n",
      "\n"
     ]
    },
    {
     "name": "stdin",
     "output_type": "stream",
     "text": [
      "Do you want to continue?(y/n):  y\n"
     ]
    },
    {
     "name": "stdout",
     "output_type": "stream",
     "text": [
      "1- Add Student Data\n",
      "2- Fetch Student Data\n",
      "3- Edit Student Data\n",
      "4- Delete Student Data\n",
      "5- List all Student Data\n",
      "6- Quit Program\n"
     ]
    },
    {
     "name": "stdin",
     "output_type": "stream",
     "text": [
      "Choose an option from the menu above:  4\n",
      "Enter the registration number of the student whose data is to be deleted:  FA20-BCE-000\n"
     ]
    },
    {
     "name": "stdout",
     "output_type": "stream",
     "text": [
      "The following data has been deleted of registration number: FA20-BCE-000\n",
      "\n",
      "{'Name': 'Engr. Umair Shafiq Khan', 'Email': 'umairshafiqkhan@yahoo.com', 'Gender': 'Male'}\n",
      "\n",
      "\n"
     ]
    },
    {
     "name": "stdin",
     "output_type": "stream",
     "text": [
      "Do you want to continue?(y/n):  y\n"
     ]
    },
    {
     "name": "stdout",
     "output_type": "stream",
     "text": [
      "1- Add Student Data\n",
      "2- Fetch Student Data\n",
      "3- Edit Student Data\n",
      "4- Delete Student Data\n",
      "5- List all Student Data\n",
      "6- Quit Program\n"
     ]
    },
    {
     "name": "stdin",
     "output_type": "stream",
     "text": [
      "Choose an option from the menu above:  5\n"
     ]
    },
    {
     "name": "stdout",
     "output_type": "stream",
     "text": [
      "Registration Number: FA20-BCE-021\n",
      "{'Name': 'Rana Fahad Aman', 'Email': 'ranafahadaman1@gmail.com', 'Gender': 'Male'}\n",
      "\n",
      "\n",
      "Registration Number: FA20-BCE-037\n",
      "{'Name': 'Daud Hassan', 'Email': 'drhassan130@gmail.com', 'Gender': 'Male'}\n",
      "\n",
      "\n",
      "Registration Number: FA20-BCE-053\n",
      "{'Name': 'Afaan Kamran', 'Email': 'affaankamran128@gmail.com', 'Gender': 'Male'}\n",
      "\n",
      "\n",
      "Registration Number: FA20-BCE-004\n",
      "{'Name': 'Malaika Asghar', 'Email': 'rmalaika@gmail.com', 'Gender': 'Female'}\n",
      "\n",
      "\n"
     ]
    },
    {
     "name": "stdin",
     "output_type": "stream",
     "text": [
      "Do you want to continue?(y/n):  y\n"
     ]
    },
    {
     "name": "stdout",
     "output_type": "stream",
     "text": [
      "1- Add Student Data\n",
      "2- Fetch Student Data\n",
      "3- Edit Student Data\n",
      "4- Delete Student Data\n",
      "5- List all Student Data\n",
      "6- Quit Program\n"
     ]
    },
    {
     "name": "stdin",
     "output_type": "stream",
     "text": [
      "Choose an option from the menu above:  6\n"
     ]
    },
    {
     "name": "stdout",
     "output_type": "stream",
     "text": [
      "\n",
      "GoodBye!!!\n",
      "\n"
     ]
    },
    {
     "name": "stdin",
     "output_type": "stream",
     "text": [
      "Do you want to continue?(y/n):  n\n"
     ]
    }
   ],
   "source": [
    "# Initialization of student data\n",
    "\n",
    "studentData = {}\n",
    "studentData[\"FA20-BCE-021\"] = {\n",
    "    \"Name\":\"Rana Fahad Aman\",\n",
    "    \"Email\":\"ranafahadaman1@gmail.com\",\n",
    "    \"Gender\":\"Male\"\n",
    "}\n",
    "\n",
    "studentData[\"FA20-BCE-037\"] = {\n",
    "    \"Name\":\"Daud Hassan\",\n",
    "    \"Email\":\"drhassan130@gmail.com\",\n",
    "    \"Gender\":\"Male\"\n",
    "}\n",
    "\n",
    "studentData[\"FA20-BCE-053\"] = {\n",
    "    \"Name\":\"Afaan Kamran\",\n",
    "    \"Email\":\"affaankamran128@gmail.com\",\n",
    "    \"Gender\":\"Male\"\n",
    "}\n",
    "\n",
    "studentData[\"FA20-BCE-004\"] = {\n",
    "    \"Name\":\"Malaika Asghar\",\n",
    "    \"Email\":\"rmalaika@gmail.com\",\n",
    "    \"Gender\":\"Female\"\n",
    "}\n",
    "\n",
    "#Running the Program Loop\n",
    "innerChoice = input(\"Do you want to start the program?(y/n)\")\n",
    "if(innerChoice.lower() == 'y'):\n",
    "    while (innerChoice == 'y'):\n",
    "        Menu()       \n",
    "        innerChoice = input(\"Do you want to continue?(y/n): \")\n",
    "elif(innerChoice.lower() == 'n'):\n",
    "    quit()\n",
    "else:\n",
    "    print(\"Enter a valid input.\\nTry again!\")"
   ]
  }
 ],
 "metadata": {
  "kernelspec": {
   "display_name": "Python 3 (ipykernel)",
   "language": "python",
   "name": "python3"
  },
  "language_info": {
   "codemirror_mode": {
    "name": "ipython",
    "version": 3
   },
   "file_extension": ".py",
   "mimetype": "text/x-python",
   "name": "python",
   "nbconvert_exporter": "python",
   "pygments_lexer": "ipython3",
   "version": "3.10.9"
  }
 },
 "nbformat": 4,
 "nbformat_minor": 5
}
